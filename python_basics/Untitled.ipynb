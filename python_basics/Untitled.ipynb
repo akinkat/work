{
 "cells": [
  {
   "cell_type": "code",
   "execution_count": 1,
   "id": "a3129b1e-3634-4da8-ab7c-6809d923c187",
   "metadata": {},
   "outputs": [
    {
     "name": "stdout",
     "output_type": "stream",
     "text": [
      "hello world\n"
     ]
    }
   ],
   "source": [
    "print('hello world')"
   ]
  },
  {
   "cell_type": "code",
   "execution_count": 3,
   "id": "70c018dc-936c-4a28-87fd-210d06d98b15",
   "metadata": {},
   "outputs": [
    {
     "name": "stdin",
     "output_type": "stream",
     "text": [
      "Number: 13\n"
     ]
    },
    {
     "data": {
      "text/plain": [
       "[1, 13]"
      ]
     },
     "execution_count": 3,
     "metadata": {},
     "output_type": "execute_result"
    }
   ],
   "source": [
    "num = int(input('Number:'))\n",
    "\n",
    "div = []\n",
    "for i in range(1, num+1):\n",
    "    if num % i == 0:\n",
    "        div.append(i)\n",
    "        \n",
    "if len(div) == 2:\n",
    "    print(f'{num}は素数です')\n",
    "else:\n",
    "    print(f'{num}は素数ではありません"
   ]
  },
  {
   "cell_type": "code",
   "execution_count": null,
   "id": "a1d407e6-0b8e-408c-b93f-249092b4bde1",
   "metadata": {},
   "outputs": [],
   "source": []
  }
 ],
 "metadata": {
  "kernelspec": {
   "display_name": "Python 3 (ipykernel)",
   "language": "python",
   "name": "python3"
  },
  "language_info": {
   "codemirror_mode": {
    "name": "ipython",
    "version": 3
   },
   "file_extension": ".py",
   "mimetype": "text/x-python",
   "name": "python",
   "nbconvert_exporter": "python",
   "pygments_lexer": "ipython3",
   "version": "3.9.13"
  }
 },
 "nbformat": 4,
 "nbformat_minor": 5
}
