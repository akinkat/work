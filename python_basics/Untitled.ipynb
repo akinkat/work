{
 "cells": [
  {
   "cell_type": "code",
   "execution_count": 1,
   "id": "a3129b1e-3634-4da8-ab7c-6809d923c187",
   "metadata": {},
   "outputs": [
    {
     "name": "stdout",
     "output_type": "stream",
     "text": [
      "hello world\n"
     ]
    }
   ],
   "source": [
    "print('hello world')"
   ]
  },
  {
   "cell_type": "code",
   "execution_count": 6,
   "id": "70c018dc-936c-4a28-87fd-210d06d98b15",
   "metadata": {},
   "outputs": [
    {
     "name": "stdin",
     "output_type": "stream",
     "text": [
      "Number: 5\n"
     ]
    },
    {
     "name": "stdout",
     "output_type": "stream",
     "text": [
      "5は素数です\n"
     ]
    }
   ],
   "source": [
    "num = int(input('Number:'))\n",
    "\n",
    "div = []\n",
    "for i in range(1, num+1):\n",
    "    if num % i == 0:\n",
    "        div.append(i)\n",
    "        \n",
    "if len(div) == 2:\n",
    "    print(f'{num}は素数です')\n",
    "else:\n",
    "    print(f'{num}は素数ではありません。')\n",
    "    print(div)"
   ]
  },
  {
   "cell_type": "code",
   "execution_count": 9,
   "id": "a1d407e6-0b8e-408c-b93f-249092b4bde1",
   "metadata": {},
   "outputs": [
    {
     "name": "stdin",
     "output_type": "stream",
     "text": [
      "number 3\n"
     ]
    },
    {
     "name": "stdout",
     "output_type": "stream",
     "text": [
      "*\n",
      "**\n",
      "***\n",
      "****\n"
     ]
    }
   ],
   "source": [
    "num = int(input('number'))\n",
    "n = 1\n",
    "for i in range(num+1):\n",
    "    print('*'*n)\n",
    "    n += 1"
   ]
  },
  {
   "cell_type": "code",
   "execution_count": 11,
   "id": "fe8f4b31-b846-4aab-b055-f31806033fee",
   "metadata": {},
   "outputs": [
    {
     "name": "stdin",
     "output_type": "stream",
     "text": [
      "number: 5\n"
     ]
    },
    {
     "name": "stdout",
     "output_type": "stream",
     "text": [
      "      \n",
      "     * \n",
      "    * * \n",
      "   * * * \n",
      "  * * * * \n",
      " * * * * * \n"
     ]
    }
   ],
   "source": [
    "num = int(input('number:'))\n",
    "count = num\n",
    "for i in range(num+1):\n",
    "    print(' '*count, '* '*i)\n",
    "    count -= 1"
   ]
  },
  {
   "cell_type": "code",
   "execution_count": 26,
   "id": "e4ac2f27-d1ed-40c2-8d0a-5219cc9ded2e",
   "metadata": {},
   "outputs": [
    {
     "name": "stdout",
     "output_type": "stream",
     "text": [
      "0\n",
      "1\n",
      "2\n",
      "3\n",
      "4\n",
      "5\n",
      "6\n",
      "7\n",
      "8\n",
      "9\n"
     ]
    }
   ],
   "source": [
    "count = 0\n",
    "for i in range(10):\n",
    "    print(count)\n",
    "    count += 1"
   ]
  },
  {
   "cell_type": "code",
   "execution_count": 37,
   "id": "b378a3f5-0048-4798-98e7-c6cb7650d680",
   "metadata": {},
   "outputs": [],
   "source": [
    "class Person(object):\n",
    "    def __init__(self, name, age, physical_ability):\n",
    "        self.name = name\n",
    "        self.age = age\n",
    "        self.physical_ability = physical_ability\n",
    "        self.total_distance = 0\n",
    "        \n",
    "    def walk(self, time, basic_speed=1.2):\n",
    "        speed = self.physical_ability * basic_speed\n",
    "        self.total_distance += speed * time\n",
    "    \n",
    "    def run(self, time, basic_speed=1.7):\n",
    "        speed = self.physical_ability * basic_speed\n",
    "        self.total_distance += speed * time"
   ]
  },
  {
   "cell_type": "code",
   "execution_count": 38,
   "id": "d6c7e255-227d-41a3-97e4-7a8fb5921300",
   "metadata": {},
   "outputs": [],
   "source": [
    "luffy = Person('Luffy', 19, 2.5)\n",
    "usopp = Person('Usopp', 19, 1.3)\n",
    "nami = Person('Nami', 20, 0.9)"
   ]
  },
  {
   "cell_type": "code",
   "execution_count": 39,
   "id": "bd3e586e-e20a-43bb-bda6-909e8ecc6075",
   "metadata": {},
   "outputs": [
    {
     "name": "stdout",
     "output_type": "stream",
     "text": [
      "0\n",
      "0\n",
      "**********\n",
      "9.0\n",
      "3.24\n",
      "**********\n",
      "19.625\n",
      "7.065\n"
     ]
    }
   ],
   "source": [
    "print(luffy.total_distance)\n",
    "print(nami.total_distance)\n",
    "luffy.walk(3)\n",
    "nami.walk(3)\n",
    "print('*'*10)\n",
    "print(luffy.total_distance)\n",
    "print(nami.total_distance)\n",
    "luffy.run(2.5)\n",
    "nami.run(2.5)\n",
    "print('*'*10)\n",
    "print(luffy.total_distance)\n",
    "print(nami.total_distance)"
   ]
  },
  {
   "cell_type": "code",
   "execution_count": 110,
   "id": "1c96045d-f62a-4168-aef7-a5953b318996",
   "metadata": {},
   "outputs": [],
   "source": [
    "def fibo(num):\n",
    "    if num <= 1:\n",
    "        return num\n",
    "    return fibo(num-1) + fibo(num-2)"
   ]
  },
  {
   "cell_type": "code",
   "execution_count": 112,
   "id": "14c890a7-0174-41c5-b5a0-a2086f1bd866",
   "metadata": {},
   "outputs": [
    {
     "name": "stdout",
     "output_type": "stream",
     "text": [
      "0\n",
      "1\n",
      "1\n",
      "2\n",
      "3\n",
      "5\n",
      "8\n",
      "13\n",
      "21\n",
      "34\n"
     ]
    }
   ],
   "source": [
    "for i in range(10):\n",
    "    answer = fibo(i)\n",
    "    print(answer)"
   ]
  },
  {
   "cell_type": "code",
   "execution_count": 113,
   "id": "7b44cfeb-ccc1-4d76-982b-74109407bb64",
   "metadata": {},
   "outputs": [],
   "source": [
    "def greeting(name):\n",
    "    print(f'My name is {name}.')"
   ]
  },
  {
   "cell_type": "code",
   "execution_count": null,
   "id": "80fc6513-e343-49ce-9d65-62468d5af498",
   "metadata": {},
   "outputs": [],
   "source": [
    "gr"
   ]
  }
 ],
 "metadata": {
  "kernelspec": {
   "display_name": "Python 3 (ipykernel)",
   "language": "python",
   "name": "python3"
  },
  "language_info": {
   "codemirror_mode": {
    "name": "ipython",
    "version": 3
   },
   "file_extension": ".py",
   "mimetype": "text/x-python",
   "name": "python",
   "nbconvert_exporter": "python",
   "pygments_lexer": "ipython3",
   "version": "3.9.13"
  }
 },
 "nbformat": 4,
 "nbformat_minor": 5
}
