{
 "cells": [
  {
   "cell_type": "code",
   "execution_count": 1,
   "id": "a3129b1e-3634-4da8-ab7c-6809d923c187",
   "metadata": {},
   "outputs": [
    {
     "name": "stdout",
     "output_type": "stream",
     "text": [
      "hello world\n"
     ]
    }
   ],
   "source": [
    "print('hello world')"
   ]
  },
  {
   "cell_type": "code",
   "execution_count": 6,
   "id": "70c018dc-936c-4a28-87fd-210d06d98b15",
   "metadata": {},
   "outputs": [
    {
     "name": "stdin",
     "output_type": "stream",
     "text": [
      "Number: 5\n"
     ]
    },
    {
     "name": "stdout",
     "output_type": "stream",
     "text": [
      "5は素数です\n"
     ]
    }
   ],
   "source": [
    "num = int(input('Number:'))\n",
    "\n",
    "div = []\n",
    "for i in range(1, num+1):\n",
    "    if num % i == 0:\n",
    "        div.append(i)\n",
    "        \n",
    "if len(div) == 2:\n",
    "    print(f'{num}は素数です')\n",
    "else:\n",
    "    print(f'{num}は素数ではありません。')\n",
    "    print(div)"
   ]
  },
  {
   "cell_type": "code",
   "execution_count": 9,
   "id": "a1d407e6-0b8e-408c-b93f-249092b4bde1",
   "metadata": {},
   "outputs": [
    {
     "name": "stdin",
     "output_type": "stream",
     "text": [
      "number 3\n"
     ]
    },
    {
     "name": "stdout",
     "output_type": "stream",
     "text": [
      "*\n",
      "**\n",
      "***\n",
      "****\n"
     ]
    }
   ],
   "source": [
    "num = int(input('number'))\n",
    "n = 1\n",
    "for i in range(num+1):\n",
    "    print('*'*n)\n",
    "    n += 1"
   ]
  },
  {
   "cell_type": "code",
   "execution_count": 11,
   "id": "fe8f4b31-b846-4aab-b055-f31806033fee",
   "metadata": {},
   "outputs": [
    {
     "name": "stdin",
     "output_type": "stream",
     "text": [
      "number: 5\n"
     ]
    },
    {
     "name": "stdout",
     "output_type": "stream",
     "text": [
      "      \n",
      "     * \n",
      "    * * \n",
      "   * * * \n",
      "  * * * * \n",
      " * * * * * \n"
     ]
    }
   ],
   "source": [
    "num = int(input('number:'))\n",
    "count = num\n",
    "for i in range(num+1):\n",
    "    print(' '*count, '* '*i)\n",
    "    count -= 1"
   ]
  },
  {
   "cell_type": "code",
   "execution_count": 26,
   "id": "e4ac2f27-d1ed-40c2-8d0a-5219cc9ded2e",
   "metadata": {},
   "outputs": [
    {
     "name": "stdout",
     "output_type": "stream",
     "text": [
      "0\n",
      "1\n",
      "2\n",
      "3\n",
      "4\n",
      "5\n",
      "6\n",
      "7\n",
      "8\n",
      "9\n"
     ]
    }
   ],
   "source": [
    "count = 0\n",
    "for i in range(10):\n",
    "    print(count)\n",
    "    count += 1"
   ]
  },
  {
   "cell_type": "code",
   "execution_count": 37,
   "id": "b378a3f5-0048-4798-98e7-c6cb7650d680",
   "metadata": {},
   "outputs": [],
   "source": [
    "class Person(object):\n",
    "    def __init__(self, name, age, physical_ability):\n",
    "        self.name = name\n",
    "        self.age = age\n",
    "        self.physical_ability = physical_ability\n",
    "        self.total_distance = 0\n",
    "        \n",
    "    def walk(self, time, basic_speed=1.2):\n",
    "        speed = self.physical_ability * basic_speed\n",
    "        self.total_distance += speed * time\n",
    "    \n",
    "    def run(self, time, basic_speed=1.7):\n",
    "        speed = self.physical_ability * basic_speed\n",
    "        self.total_distance += speed * time"
   ]
  },
  {
   "cell_type": "code",
   "execution_count": 38,
   "id": "d6c7e255-227d-41a3-97e4-7a8fb5921300",
   "metadata": {},
   "outputs": [],
   "source": [
    "luffy = Person('Luffy', 19, 2.5)\n",
    "usopp = Person('Usopp', 19, 1.3)\n",
    "nami = Person('Nami', 20, 0.9)"
   ]
  },
  {
   "cell_type": "code",
   "execution_count": 39,
   "id": "bd3e586e-e20a-43bb-bda6-909e8ecc6075",
   "metadata": {},
   "outputs": [
    {
     "name": "stdout",
     "output_type": "stream",
     "text": [
      "0\n",
      "0\n",
      "**********\n",
      "9.0\n",
      "3.24\n",
      "**********\n",
      "19.625\n",
      "7.065\n"
     ]
    }
   ],
   "source": [
    "print(luffy.total_distance)\n",
    "print(nami.total_distance)\n",
    "luffy.walk(3)\n",
    "nami.walk(3)\n",
    "print('*'*10)\n",
    "print(luffy.total_distance)\n",
    "print(nami.total_distance)\n",
    "luffy.run(2.5)\n",
    "nami.run(2.5)\n",
    "print('*'*10)\n",
    "print(luffy.total_distance)\n",
    "print(nami.total_distance)"
   ]
  },
  {
   "cell_type": "code",
   "execution_count": 110,
   "id": "1c96045d-f62a-4168-aef7-a5953b318996",
   "metadata": {},
   "outputs": [],
   "source": [
    "def fibo(num):\n",
    "    if num <= 1:\n",
    "        return num\n",
    "    return fibo(num-1) + fibo(num-2)"
   ]
  },
  {
   "cell_type": "code",
   "execution_count": 112,
   "id": "14c890a7-0174-41c5-b5a0-a2086f1bd866",
   "metadata": {},
   "outputs": [
    {
     "name": "stdout",
     "output_type": "stream",
     "text": [
      "0\n",
      "1\n",
      "1\n",
      "2\n",
      "3\n",
      "5\n",
      "8\n",
      "13\n",
      "21\n",
      "34\n"
     ]
    }
   ],
   "source": [
    "for i in range(10):\n",
    "    answer = fibo(i)\n",
    "    print(answer)"
   ]
  },
  {
   "cell_type": "code",
   "execution_count": 126,
   "id": "7b44cfeb-ccc1-4d76-982b-74109407bb64",
   "metadata": {},
   "outputs": [],
   "source": [
    "class Pirate(object):\n",
    "    def __init__(self, name, age, hp, power):\n",
    "        self.name = name\n",
    "        self.age = age\n",
    "        self.hp = hp\n",
    "        self.power = power\n",
    "        \n",
    "    def punch(self):\n",
    "        damage = self.power * 1.2\n",
    "        return damage\n",
    "    \n",
    "    def kick(self):\n",
    "        damage = self.power * 1.7\n",
    "        return damage"
   ]
  },
  {
   "cell_type": "code",
   "execution_count": 127,
   "id": "80fc6513-e343-49ce-9d65-62468d5af498",
   "metadata": {},
   "outputs": [],
   "source": [
    "luffy = Pirate('Luffy', 19, 5000, 2000)\n",
    "zoro = Pirate('Zoro', 21, 4000, 2500)\n",
    "usopp = Pirate('Usopp', 20, 3500, 1500)"
   ]
  },
  {
   "cell_type": "code",
   "execution_count": 128,
   "id": "2372d8cb-840f-47ea-9bab-7942f82b58e0",
   "metadata": {},
   "outputs": [
    {
     "data": {
      "text/plain": [
       "2400.0"
      ]
     },
     "execution_count": 128,
     "metadata": {},
     "output_type": "execute_result"
    }
   ],
   "source": [
    "damage = luffy.punch()\n",
    "damage"
   ]
  },
  {
   "cell_type": "code",
   "execution_count": 131,
   "id": "f8445119-9caf-45ba-8ea2-6cb2d9bccc27",
   "metadata": {},
   "outputs": [
    {
     "data": {
      "text/plain": [
       "'gmail.com'"
      ]
     },
     "execution_count": 131,
     "metadata": {},
     "output_type": "execute_result"
    }
   ],
   "source": [
    "mail = 'aki1531252@gmail.com'\n",
    "mail.split('@')[1]"
   ]
  },
  {
   "cell_type": "code",
   "execution_count": 144,
   "id": "f9b8db34-3d3a-4364-b017-165cc7923dad",
   "metadata": {},
   "outputs": [
    {
     "name": "stdin",
     "output_type": "stream",
     "text": [
      "あなたはappleが好きですか？(y/n) y\n",
      "あなたはbananaが好きですか？(y/n) n\n",
      "あなたはorangeが好きですか？(y/n) y\n"
     ]
    },
    {
     "name": "stdout",
     "output_type": "stream",
     "text": [
      "あなたが好きなフルーツは['apple', 'orange']です。\n"
     ]
    }
   ],
   "source": [
    "fruits = ['apple', 'banana', 'orange']\n",
    "favorite = []\n",
    "normal = []\n",
    "\n",
    "for fruit in fruits:\n",
    "    while True:\n",
    "        choice = input(f'あなたは{fruit}が好きですか？(y/n)')\n",
    "        if choice == 'y':\n",
    "            favorite.append(fruit)\n",
    "            break\n",
    "        elif choice == 'n':\n",
    "            normal.append(fruit)\n",
    "            break\n",
    "        else:\n",
    "            print('入力が正しくありません。')\n",
    "            \n",
    "print(f'あなたが好きなフルーツは{favorite}です。')"
   ]
  },
  {
   "cell_type": "code",
   "execution_count": 145,
   "id": "728f1c4d-1491-47b8-9084-ef35fd97ab08",
   "metadata": {},
   "outputs": [
    {
     "data": {
      "text/plain": [
       "'one'"
      ]
     },
     "execution_count": 145,
     "metadata": {},
     "output_type": "execute_result"
    }
   ],
   "source": [
    "nums = {1: 'one', 2: 'two', 3: 'three'}\n",
    "nums[1]"
   ]
  },
  {
   "cell_type": "code",
   "execution_count": 147,
   "id": "27417e09-1547-41ab-8d51-eb047fdb5f85",
   "metadata": {},
   "outputs": [],
   "source": [
    "new_dict = {4: 'four', 5: 'five'}\n",
    "nums['add'] = new_dict"
   ]
  },
  {
   "cell_type": "code",
   "execution_count": 148,
   "id": "3e7fda4d-f5b1-4415-9f98-a003095d53b1",
   "metadata": {},
   "outputs": [
    {
     "data": {
      "text/plain": [
       "{1: 'one', 2: 'two', 3: 'three', 'add': {4: 'four', 5: 'five'}}"
      ]
     },
     "execution_count": 148,
     "metadata": {},
     "output_type": "execute_result"
    }
   ],
   "source": [
    "nums"
   ]
  },
  {
   "cell_type": "code",
   "execution_count": 149,
   "id": "68a2d0c1-51f1-4610-b348-544daf4ad4e1",
   "metadata": {},
   "outputs": [
    {
     "data": {
      "text/plain": [
       "'four'"
      ]
     },
     "execution_count": 149,
     "metadata": {},
     "output_type": "execute_result"
    }
   ],
   "source": [
    "nums['add'][4]"
   ]
  },
  {
   "cell_type": "code",
   "execution_count": 150,
   "id": "183434da-4f41-4d64-9be7-f2dc79fa3958",
   "metadata": {},
   "outputs": [
    {
     "name": "stdout",
     "output_type": "stream",
     "text": [
      "1\n",
      "2\n",
      "3\n"
     ]
    }
   ],
   "source": [
    "nums = [1, 2, 3]\n",
    "for i in nums:\n",
    "    print(i)"
   ]
  },
  {
   "cell_type": "code",
   "execution_count": 154,
   "id": "6cdf3a20-b6c8-4c47-8cb8-52feb8876aab",
   "metadata": {},
   "outputs": [
    {
     "data": {
      "text/plain": [
       "[2, 4, 6, 8, 10, 12, 14, 16, 18, 20]"
      ]
     },
     "execution_count": 154,
     "metadata": {},
     "output_type": "execute_result"
    }
   ],
   "source": [
    "nums = []\n",
    "n = 10\n",
    "for i in range(1, n+1):\n",
    "    nums.append(i*2)\n",
    "    \n",
    "nums"
   ]
  },
  {
   "cell_type": "code",
   "execution_count": 182,
   "id": "b750efef-61c9-48af-a061-a145cf7e5e24",
   "metadata": {},
   "outputs": [],
   "source": [
    "def prime_numbers(n):\n",
    "    num = 2\n",
    "    prime = True\n",
    "    while n :\n",
    "        if n % num == 0:\n",
    "            prime = None\n",
    "            print(f'{n}は素数ではありません。{num}で割り切れます。')\n",
    "            break\n",
    "        else:\n",
    "            if n == num:\n",
    "                print(f'ループが最後まで回りました。{n}は素数です。')\n",
    "                break\n",
    "            else:\n",
    "                num += 1\n",
    "    print(prime)\n",
    "    return prime"
   ]
  },
  {
   "cell_type": "code",
   "execution_count": 184,
   "id": "88992452-2390-4165-a1e4-0896234d22f0",
   "metadata": {},
   "outputs": [
    {
     "name": "stdout",
     "output_type": "stream",
     "text": [
      "19は素数ではありません。19で割り切れます。\n",
      "None\n"
     ]
    }
   ],
   "source": [
    "prime_numbers(19)"
   ]
  },
  {
   "cell_type": "code",
   "execution_count": 162,
   "id": "66f72b75-a780-4452-b6f0-6e08f1718327",
   "metadata": {},
   "outputs": [
    {
     "name": "stdout",
     "output_type": "stream",
     "text": [
      "10は偶数です。\n",
      "9は奇数です。\n",
      "8は偶数です。\n",
      "7は奇数です。\n",
      "6は偶数です。\n",
      "5は奇数です。\n",
      "4は偶数です。\n",
      "3は奇数です。\n",
      "2は偶数です。\n",
      "1は奇数です。\n"
     ]
    }
   ],
   "source": [
    "count = 10\n",
    "while count >= 1:\n",
    "    if count % 2 == 0:\n",
    "        print(f'{count}は偶数です。')\n",
    "    else:\n",
    "        print(f'{count}は奇数です。')\n",
    "    count -= 1"
   ]
  },
  {
   "cell_type": "code",
   "execution_count": 189,
   "id": "b327e3fc-6540-43d6-87af-c75f328abb63",
   "metadata": {},
   "outputs": [],
   "source": [
    "class Animal(object):\n",
    "    def __init__(name, age):\n",
    "        self.name = name\n",
    "        self.age = age\n",
    "        \n",
    "    def walk(self):\n",
    "        print(f'{self.name}が歩きました。')\n",
    "        \n",
    "    def run(self):\n",
    "        print(f'{self.name}が走りました。')"
   ]
  },
  {
   "cell_type": "code",
   "execution_count": 198,
   "id": "39f6307d-3b80-40a7-aa62-643e4118c721",
   "metadata": {},
   "outputs": [
    {
     "name": "stdout",
     "output_type": "stream",
     "text": [
      "10\n",
      "9\n",
      "8\n",
      "7\n",
      "6\n",
      "5\n",
      "4\n",
      "3\n",
      "2\n",
      "1\n"
     ]
    }
   ],
   "source": [
    "n = 10\n",
    "while n > 0:\n",
    "    print(n)\n",
    "    n -= 1"
   ]
  },
  {
   "cell_type": "code",
   "execution_count": 203,
   "id": "2fbe838a-646b-40e9-b744-7cb384a347cf",
   "metadata": {},
   "outputs": [
    {
     "name": "stdout",
     "output_type": "stream",
     "text": [
      "None\n"
     ]
    }
   ],
   "source": [
    "n = None\n",
    "if n:\n",
    "    print('Not None')\n",
    "else:\n",
    "    print(n)"
   ]
  },
  {
   "cell_type": "code",
   "execution_count": 2,
   "id": "41753319-69e1-4c98-afee-0c583d1dad9e",
   "metadata": {},
   "outputs": [
    {
     "name": "stdout",
     "output_type": "stream",
     "text": [
      "10\n",
      "8\n",
      "6\n",
      "4\n",
      "2\n"
     ]
    }
   ],
   "source": [
    "n = 10\n",
    "while n:\n",
    "    if n % 2 != 0:\n",
    "        n -= 1\n",
    "        continue\n",
    "    else:\n",
    "        print(n)\n",
    "        n -= 1"
   ]
  },
  {
   "cell_type": "code",
   "execution_count": 8,
   "id": "92c1339f-a469-4e8f-b02d-9aa6f112713b",
   "metadata": {},
   "outputs": [
    {
     "name": "stdout",
     "output_type": "stream",
     "text": [
      "bananaは黄色です。\n",
      "appleは赤色です。\n",
      "grapesは紫色です。\n"
     ]
    }
   ],
   "source": [
    "fruits = {'banana': '黄', 'apple': '赤', 'grapes': '紫'}\n",
    "\n",
    "for k, v in fruits.items():\n",
    "    print(f'{k}は{v}色です。')"
   ]
  },
  {
   "cell_type": "code",
   "execution_count": 13,
   "id": "f7fc3cec-431b-4a8a-b09e-455b1156b23c",
   "metadata": {},
   "outputs": [
    {
     "name": "stdout",
     "output_type": "stream",
     "text": [
      "a\n",
      "k\n",
      "i\n",
      "number:1\n",
      "number:5\n",
      "number:3\n",
      "number:1\n",
      "number:2\n",
      "number:5\n",
      "number:2\n"
     ]
    }
   ],
   "source": [
    "n = 'aki1531252'\n",
    "for i in n:\n",
    "    try:\n",
    "        int(i)\n",
    "        print(f'number:{i}')\n",
    "    except ValueError:\n",
    "        print(i)"
   ]
  },
  {
   "cell_type": "code",
   "execution_count": 45,
   "id": "a22e090d-6ef4-47fc-abcd-c9010ef4b1ed",
   "metadata": {},
   "outputs": [
    {
     "name": "stdout",
     "output_type": "stream",
     "text": [
      "[1, 3, 9]\n",
      "奇数です\n"
     ]
    }
   ],
   "source": [
    "import random\n",
    "\n",
    "def lucky():\n",
    "    n = random.randint(1, 100)\n",
    "    return n\n",
    "\n",
    "def prime_number(n):\n",
    "    div = []\n",
    "    for i in range(1, n+1):\n",
    "        if n % i == 0:\n",
    "            div.append(i)\n",
    "        if len(div) > 2:\n",
    "            print(div)\n",
    "            break\n",
    "    if len(div) == 2:\n",
    "        print(div)\n",
    "        return True\n",
    "    \n",
    "\n",
    "n = lucky()\n",
    "if n % 2 == 0:\n",
    "    print('偶数です。')\n",
    "elif prime_number(n):\n",
    "    print('素数です')\n",
    "else:\n",
    "    print('奇数です')"
   ]
  },
  {
   "cell_type": "code",
   "execution_count": 38,
   "id": "9241750a-a0b6-4c55-81fa-bb251c228ce0",
   "metadata": {},
   "outputs": [
    {
     "name": "stdout",
     "output_type": "stream",
     "text": [
      "[1, 2, 4]\n"
     ]
    }
   ],
   "source": [
    "prime_number(4)"
   ]
  },
  {
   "cell_type": "code",
   "execution_count": 22,
   "id": "1c628192-4b1a-4b7e-b4d5-64de36ee1a6b",
   "metadata": {},
   "outputs": [
    {
     "data": {
      "text/plain": [
       "1"
      ]
     },
     "execution_count": 22,
     "metadata": {},
     "output_type": "execute_result"
    }
   ],
   "source": [
    "3 % 2 "
   ]
  },
  {
   "cell_type": "code",
   "execution_count": 47,
   "id": "8da37d34-1fc2-426a-9f06-fa21b9ec1776",
   "metadata": {},
   "outputs": [
    {
     "name": "stdout",
     "output_type": "stream",
     "text": [
      "a\n",
      "k\n",
      "i\n",
      "1\n",
      "5\n",
      "3\n",
      "1\n",
      "2\n",
      "5\n",
      "2\n"
     ]
    }
   ],
   "source": [
    "mail = 'aki1531252@gmail.com'\n",
    "for i in mail:\n",
    "    if i == '@':\n",
    "        break\n",
    "    print(i)"
   ]
  },
  {
   "cell_type": "code",
   "execution_count": 48,
   "id": "3717eab2-0957-4492-a617-a732765cb791",
   "metadata": {},
   "outputs": [],
   "source": [
    "import time"
   ]
  },
  {
   "cell_type": "code",
   "execution_count": 52,
   "id": "fda0b265-ca17-4a3a-aba9-2e541f6f5269",
   "metadata": {},
   "outputs": [
    {
     "data": {
      "text/plain": [
       "8107.436282467841"
      ]
     },
     "execution_count": 52,
     "metadata": {},
     "output_type": "execute_result"
    }
   ],
   "source": [
    "time.time()/60/60/60"
   ]
  },
  {
   "cell_type": "code",
   "execution_count": 53,
   "id": "eeedab28-f610-41f7-a413-7ed630d80ab2",
   "metadata": {},
   "outputs": [
    {
     "data": {
      "text/plain": [
       "2.0"
      ]
     },
     "execution_count": 53,
     "metadata": {},
     "output_type": "execute_result"
    }
   ],
   "source": [
    "def div(n, m):\n",
    "    return n / m\n",
    "\n",
    "div(4, 2)"
   ]
  },
  {
   "cell_type": "code",
   "execution_count": 77,
   "id": "6c8eb691-5282-43c4-9470-d4f21333b597",
   "metadata": {},
   "outputs": [
    {
     "name": "stdout",
     "output_type": "stream",
     "text": [
      "60%: 0.22611609740852956\n"
     ]
    }
   ],
   "source": [
    "import random\n",
    "\n",
    "n = random.random()\n",
    "if n <= 0.6:\n",
    "    print(f'60%: {n}')\n",
    "else:\n",
    "    print(f'40%: {n}')"
   ]
  },
  {
   "cell_type": "code",
   "execution_count": null,
   "id": "47956bf9-477d-4d88-acf7-5f16fe32140c",
   "metadata": {},
   "outputs": [],
   "source": []
  },
  {
   "cell_type": "code",
   "execution_count": null,
   "id": "69d6ca31-5989-424e-b0c6-f65aec7fc728",
   "metadata": {},
   "outputs": [],
   "source": []
  }
 ],
 "metadata": {
  "kernelspec": {
   "display_name": "Python 3 (ipykernel)",
   "language": "python",
   "name": "python3"
  },
  "language_info": {
   "codemirror_mode": {
    "name": "ipython",
    "version": 3
   },
   "file_extension": ".py",
   "mimetype": "text/x-python",
   "name": "python",
   "nbconvert_exporter": "python",
   "pygments_lexer": "ipython3",
   "version": "3.9.13"
  }
 },
 "nbformat": 4,
 "nbformat_minor": 5
}
