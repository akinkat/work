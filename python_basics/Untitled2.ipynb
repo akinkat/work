{
 "cells": [
  {
   "cell_type": "code",
   "execution_count": 1,
   "id": "6636c4a8-a60f-4052-9885-873843f8363f",
   "metadata": {},
   "outputs": [
    {
     "name": "stdin",
     "output_type": "stream",
     "text": [
      "Number :  5\n"
     ]
    },
    {
     "name": "stdout",
     "output_type": "stream",
     "text": [
      "     * \n",
      "    * * \n",
      "   * * * \n",
      "  * * * * \n",
      " * * * * * \n"
     ]
    }
   ],
   "source": [
    "n = int(input('Number : '))\n",
    "              \n",
    "for i in range(1, n+1):\n",
    "    print(' '*(n-i), '* '*i)"
   ]
  },
  {
   "cell_type": "code",
   "execution_count": 2,
   "id": "6aa1e3e0-16ba-4ddb-a0f6-2034d64d1602",
   "metadata": {},
   "outputs": [
    {
     "name": "stdout",
     "output_type": "stream",
     "text": [
      "Luffyが歩きました。\n"
     ]
    }
   ],
   "source": [
    "class Person(object):\n",
    "    def __init__(self, name, age):\n",
    "        self.name = name\n",
    "        self.age = age\n",
    "        \n",
    "    def walk(self):\n",
    "        print(f'{self.name}が歩きました。')\n",
    "        \n",
    "\n",
    "class Animal(Person):\n",
    "    def __init__(self, name, age):\n",
    "        super().__init__(name, age)\n",
    "        \n",
    "    def breating(self):\n",
    "        print(f'{self.name}が呼吸をしました。')\n",
    "        \n",
    "\n",
    "luffy = Person('Luffy', 19)\n",
    "tama = Animal('Tama', 3)\n",
    "\n",
    "luffy.walk()"
   ]
  },
  {
   "cell_type": "code",
   "execution_count": 3,
   "id": "d5cc609d-20ad-47dd-a6f6-9c2c183d6a5d",
   "metadata": {},
   "outputs": [
    {
     "name": "stdout",
     "output_type": "stream",
     "text": [
      "Tamaが呼吸をしました。\n"
     ]
    }
   ],
   "source": [
    "tama.breating()"
   ]
  },
  {
   "cell_type": "code",
   "execution_count": 16,
   "id": "3cdc4845-a3ed-442c-9422-4c3a16035605",
   "metadata": {},
   "outputs": [
    {
     "name": "stdout",
     "output_type": "stream",
     "text": [
      "1  2  3  4  5  6  7  8  9  \n",
      "2  4  6  8  10  12  14  16  18  \n",
      "3  6  9  12  15  18  21  24  27  \n",
      "4  8  12  16  20  24  28  32  36  \n",
      "5  10  15  20  25  30  35  40  45  \n",
      "6  12  18  24  30  36  42  48  54  \n",
      "7  14  21  28  35  42  49  56  63  \n",
      "8  16  24  32  40  48  56  64  72  \n",
      "9  18  27  36  45  54  63  72  81  \n"
     ]
    }
   ],
   "source": [
    "for i in range(1, 10):\n",
    "    for j in range(1, 10):\n",
    "        print(i * j, end='  ')\n",
    "    print()"
   ]
  },
  {
   "cell_type": "code",
   "execution_count": 20,
   "id": "137f0148-c099-44f3-89b2-764589456d46",
   "metadata": {},
   "outputs": [],
   "source": [
    "def fibo(n):\n",
    "    if n < 2:\n",
    "        return n\n",
    "    else:\n",
    "        n_1 = 1\n",
    "        n_2 = 0\n",
    "        for i in range(n-1):\n",
    "            result = n_1 + n_2\n",
    "            n_2 = n_1\n",
    "            n_1 = result\n",
    "        return result"
   ]
  },
  {
   "cell_type": "code",
   "execution_count": 21,
   "id": "fb328532-7934-4117-87f8-abe1fb0f93ce",
   "metadata": {},
   "outputs": [
    {
     "data": {
      "text/plain": [
       "21"
      ]
     },
     "execution_count": 21,
     "metadata": {},
     "output_type": "execute_result"
    }
   ],
   "source": [
    "fibo(8)"
   ]
  },
  {
   "cell_type": "code",
   "execution_count": 22,
   "id": "6fac8fad-340f-4a18-b735-3db75f23744d",
   "metadata": {},
   "outputs": [
    {
     "name": "stdout",
     "output_type": "stream",
     "text": [
      "10\n",
      "9\n",
      "8\n",
      "7\n",
      "6\n",
      "5\n",
      "4\n",
      "3\n",
      "2\n",
      "1\n"
     ]
    }
   ],
   "source": [
    "n = 10\n",
    "while n:\n",
    "    print(n)\n",
    "    n -= 1"
   ]
  },
  {
   "cell_type": "code",
   "execution_count": 35,
   "id": "ff51388a-be89-418f-a2f6-dda259d5dfd8",
   "metadata": {},
   "outputs": [],
   "source": [
    "class Person:\n",
    "    def __init__(self, name, hp, atk, dfn):\n",
    "        self.name = name\n",
    "        self.hp = hp\n",
    "        self.atk = atk\n",
    "        self.dfn = dfn\n",
    "        \n",
    "    def punch(self, t, power=500):\n",
    "        x = 1 + (self.atk / 1000)\n",
    "        damage = power * x\n",
    "        if t.hp <= damage:\n",
    "            damage = damage - t.hp\n",
    "            t.hp = 0\n",
    "            print(f'{t.name}はパンチでKOされました。')\n",
    "        else:\n",
    "            t.hp -= damage\n",
    "            \n",
    "    def kick(self, t, power=800):\n",
    "        x = 1 + (self.atk / 1000)\n",
    "        damage = power * x\n",
    "        if t.hp <= damage:\n",
    "            damage = damage - t.hp\n",
    "            t.hp = 0\n",
    "            print(f'{t.name}はキックでKOされました。')\n",
    "        else:\n",
    "            t.hp -= damage"
   ]
  },
  {
   "cell_type": "code",
   "execution_count": 39,
   "id": "cc1445a8-b25c-43e9-8a47-18749d41aef8",
   "metadata": {},
   "outputs": [],
   "source": [
    "luffy = Person('Luffy', 5000, 1250, 1000)\n",
    "nami = Person('Nami', 3000, 500, 250)\n",
    "zoro = Person('Zoro', 4500, 1500, 800)"
   ]
  },
  {
   "cell_type": "code",
   "execution_count": 40,
   "id": "f9d04c33-da48-40b4-97e9-8aa6884ac50a",
   "metadata": {},
   "outputs": [
    {
     "name": "stdout",
     "output_type": "stream",
     "text": [
      "Luffy 5000 1250 1000\n",
      "Zoro 4500 1500 800\n"
     ]
    }
   ],
   "source": [
    "print(luffy.name, luffy.hp, luffy.atk, luffy.dfn)\n",
    "print(zoro.name, zoro.hp, zoro.atk, zoro.dfn)"
   ]
  },
  {
   "cell_type": "code",
   "execution_count": 41,
   "id": "aad389a0-5bce-4d75-b135-8e47f81d0e30",
   "metadata": {},
   "outputs": [],
   "source": [
    "luffy.punch(zoro)\n",
    "luffy.kick(zoro)\n",
    "zoro.punch(luffy)"
   ]
  },
  {
   "cell_type": "code",
   "execution_count": 42,
   "id": "a1d57e47-f723-44b0-a5d1-22bf174cdb10",
   "metadata": {},
   "outputs": [
    {
     "name": "stdout",
     "output_type": "stream",
     "text": [
      "Luffy 3750.0 1250 1000\n",
      "Zoro 1575.0 1500 800\n"
     ]
    }
   ],
   "source": [
    "print(luffy.name, luffy.hp, luffy.atk, luffy.dfn)\n",
    "print(zoro.name, zoro.hp, zoro.atk, zoro.dfn)"
   ]
  },
  {
   "cell_type": "code",
   "execution_count": 43,
   "id": "04f01bbc-b619-42fb-8287-2bd4d8bfb75e",
   "metadata": {},
   "outputs": [
    {
     "name": "stdout",
     "output_type": "stream",
     "text": [
      "ZoroはキックでKOされました。\n"
     ]
    }
   ],
   "source": [
    "luffy.punch(zoro)\n",
    "luffy.kick(zoro)"
   ]
  },
  {
   "cell_type": "code",
   "execution_count": 44,
   "id": "d26484ae-1ecd-46b2-9f08-fd7e7e856ce0",
   "metadata": {},
   "outputs": [
    {
     "name": "stdout",
     "output_type": "stream",
     "text": [
      "Zoro 0 1500 800\n"
     ]
    }
   ],
   "source": [
    "print(zoro.name, zoro.hp, zoro.atk, zoro.dfn)"
   ]
  },
  {
   "cell_type": "code",
   "execution_count": 45,
   "id": "afe03705-e42a-4a0a-9719-d5f20fb47c72",
   "metadata": {},
   "outputs": [
    {
     "data": {
      "text/plain": [
       "1.25"
      ]
     },
     "execution_count": 45,
     "metadata": {},
     "output_type": "execute_result"
    }
   ],
   "source": [
    "1000 / 800"
   ]
  },
  {
   "cell_type": "code",
   "execution_count": 54,
   "id": "cf416989-2ecd-44d2-9b70-e3c18f9e2e99",
   "metadata": {},
   "outputs": [],
   "source": [
    "import random"
   ]
  },
  {
   "cell_type": "code",
   "execution_count": 57,
   "id": "160a404c-0757-44f9-b58d-76670bfeac81",
   "metadata": {},
   "outputs": [
    {
     "name": "stdout",
     "output_type": "stream",
     "text": [
      "[79, 78, 99, 29, 77, 63, 85, 55, 56, 29]\n",
      "{99, 77, 78, 79, 85, 55, 56, 29, 63}\n"
     ]
    }
   ],
   "source": [
    "nums_1 = []\n",
    "nums_2 = set()\n",
    "\n",
    "for i in range(10):\n",
    "    n = random.randint(1, 100)\n",
    "    nums_1.append(n)\n",
    "    nums_2.add(n)\n",
    "    \n",
    "print(nums_1)\n",
    "print(nums_2)"
   ]
  },
  {
   "cell_type": "code",
   "execution_count": 69,
   "id": "314253d0-a653-48dc-a68b-fb13aa18c24b",
   "metadata": {},
   "outputs": [
    {
     "name": "stdout",
     "output_type": "stream",
     "text": [
      "622\n",
      "378\n"
     ]
    }
   ],
   "source": [
    "under = 0\n",
    "upper = 0\n",
    "\n",
    "for i in range(1000):\n",
    "    if random.random() < 0.6:\n",
    "        under += 1\n",
    "    else:\n",
    "        upper += 1\n",
    "        \n",
    "print(under)\n",
    "print(upper)"
   ]
  },
  {
   "cell_type": "code",
   "execution_count": 104,
   "id": "ae574afe-ae04-4642-a3fd-d169ebaf942e",
   "metadata": {},
   "outputs": [],
   "source": [
    "nums = [i*2 for i in range(1, 11)]"
   ]
  },
  {
   "cell_type": "code",
   "execution_count": 105,
   "id": "71006ece-6397-405f-9993-6f48c3e6b6f7",
   "metadata": {},
   "outputs": [
    {
     "data": {
      "text/plain": [
       "[2, 4, 6, 8, 10, 12, 14, 16, 18, 20]"
      ]
     },
     "execution_count": 105,
     "metadata": {},
     "output_type": "execute_result"
    }
   ],
   "source": [
    "nums"
   ]
  },
  {
   "cell_type": "code",
   "execution_count": 108,
   "id": "97af5af9-b852-4b86-88fc-f38b72c82bd5",
   "metadata": {},
   "outputs": [
    {
     "data": {
      "text/plain": [
       "[2, 4, 6, 8, 10]"
      ]
     },
     "execution_count": 108,
     "metadata": {},
     "output_type": "execute_result"
    }
   ],
   "source": [
    "nums = [i for i in range(1, 11) if i % 2 == 0]\n",
    "nums"
   ]
  },
  {
   "cell_type": "code",
   "execution_count": 119,
   "id": "e885493c-6890-4ee3-bd39-7b5576f52441",
   "metadata": {},
   "outputs": [],
   "source": [
    "nums_1 = [i for i in range(1, 10)]\n",
    "nums_2 = [i for i in range(2, 100)]\n",
    "nums_dict = {}\n",
    "\n",
    "for i in nums_1:\n",
    "    for j in nums_2:\n",
    "        n = i ** j\n",
    "        nums_dict[f'{i}**{j}'] = n"
   ]
  },
  {
   "cell_type": "code",
   "execution_count": 121,
   "id": "c559750f-6678-4b5d-a3b4-08b5282d77a8",
   "metadata": {},
   "outputs": [
    {
     "data": {
      "text/plain": [
       "882"
      ]
     },
     "execution_count": 121,
     "metadata": {},
     "output_type": "execute_result"
    }
   ],
   "source": [
    "len(nums_dict)"
   ]
  },
  {
   "cell_type": "code",
   "execution_count": 124,
   "id": "c33c4c6c-4745-4ee0-8143-f7895fe505ee",
   "metadata": {},
   "outputs": [],
   "source": [
    "def is_prime(n):\n",
    "    if n < 2:\n",
    "        return False\n",
    "    if n == 2:\n",
    "        return True\n",
    "    if n % 2 == 0:\n",
    "        return False\n",
    "    \n",
    "    i = 3\n",
    "    while i * i <= n:\n",
    "        if n % i == 0:\n",
    "            return False\n",
    "        i += 2\n",
    "    return True"
   ]
  },
  {
   "cell_type": "code",
   "execution_count": 127,
   "id": "4e35aa1e-855b-4861-bcc4-337355cb04f6",
   "metadata": {},
   "outputs": [],
   "source": [
    "n = nums_dict['5**95']"
   ]
  },
  {
   "cell_type": "code",
   "execution_count": 128,
   "id": "f637a4e3-177c-42f6-b3be-644a2531872c",
   "metadata": {},
   "outputs": [
    {
     "name": "stdout",
     "output_type": "stream",
     "text": [
      "2524354896707237777317531408904915934954260592348873615264892578125\n"
     ]
    },
    {
     "data": {
      "text/plain": [
       "False"
      ]
     },
     "execution_count": 128,
     "metadata": {},
     "output_type": "execute_result"
    }
   ],
   "source": [
    "print(n)\n",
    "is_prime(n)"
   ]
  },
  {
   "cell_type": "code",
   "execution_count": 131,
   "id": "217a6705-cfbd-4c2f-8117-3ab02d3bdaf9",
   "metadata": {},
   "outputs": [
    {
     "name": "stdout",
     "output_type": "stream",
     "text": [
      "54116956037952111668959660849\n"
     ]
    },
    {
     "data": {
      "text/plain": [
       "False"
      ]
     },
     "execution_count": 131,
     "metadata": {},
     "output_type": "execute_result"
    }
   ],
   "source": [
    "n = nums_dict['7**34']\n",
    "print(n)\n",
    "is_prime(n)"
   ]
  },
  {
   "cell_type": "code",
   "execution_count": 132,
   "id": "acbf2477-8a78-46df-9585-4ad769ffa96e",
   "metadata": {},
   "outputs": [],
   "source": [
    "def is_prime(n):\n",
    "    if n < 2:\n",
    "        return False\n",
    "    if n == 2:\n",
    "        return True\n",
    "    if n % 2 == 0:\n",
    "        return False\n",
    "    \n",
    "    i = 3\n",
    "    while i * i <= n:\n",
    "        if n % i == 0:\n",
    "            return False\n",
    "        i += 2\n",
    "        \n",
    "    return True"
   ]
  },
  {
   "cell_type": "code",
   "execution_count": 135,
   "id": "dc42542d-9e56-4045-8758-19019f05bca8",
   "metadata": {},
   "outputs": [
    {
     "name": "stdout",
     "output_type": "stream",
     "text": [
      "2\n",
      "3\n",
      "5\n",
      "7\n",
      "11\n",
      "13\n",
      "17\n",
      "19\n",
      "23\n",
      "29\n",
      "31\n",
      "37\n",
      "41\n",
      "43\n",
      "47\n",
      "53\n",
      "59\n",
      "61\n",
      "67\n",
      "71\n",
      "73\n",
      "79\n",
      "83\n",
      "89\n",
      "97\n"
     ]
    }
   ],
   "source": [
    "for i in range(1, 100):\n",
    "    if is_prime(i):\n",
    "        print(i)"
   ]
  },
  {
   "cell_type": "code",
   "execution_count": 138,
   "id": "d09a63db-fc90-4a1e-9cad-d07b6d646636",
   "metadata": {},
   "outputs": [
    {
     "data": {
      "text/plain": [
       "143"
      ]
     },
     "execution_count": 138,
     "metadata": {},
     "output_type": "execute_result"
    }
   ],
   "source": [
    "prime_nums = []\n",
    "for i in range(100, 1001):\n",
    "    if is_prime(i):\n",
    "        prime_nums.append(i)\n",
    "        \n",
    "len(prime_nums)"
   ]
  },
  {
   "cell_type": "code",
   "execution_count": 144,
   "id": "610f9f3f-1ecc-42c0-ad67-c103682bcab8",
   "metadata": {},
   "outputs": [],
   "source": [
    "l = []\n",
    "t = ()\n",
    "s = set()\n",
    "d = {}"
   ]
  },
  {
   "cell_type": "code",
   "execution_count": 146,
   "id": "7a3597cf-539e-4bab-a884-19a158247c11",
   "metadata": {},
   "outputs": [
    {
     "name": "stdout",
     "output_type": "stream",
     "text": [
      "['apple', 'ornage', 'banana', 'apple', 'melon', 'apple', 'ornage', 'banana', 'apple', 'melon'] <class 'list'>\n",
      "('apple', 'ornage', 'banana', 'apple', 'melon', 'apple', 'ornage', 'banana', 'apple', 'melon') <class 'tuple'>\n",
      "{'apple', 'banana', 'ornage', 'melon'} <class 'set'>\n",
      "{0: 'apple', 1: 'ornage', 2: 'banana', 3: 'apple', 4: 'melon'} <class 'dict'>\n"
     ]
    }
   ],
   "source": [
    "fruits = ['apple', 'ornage', 'banana', 'apple', 'melon']\n",
    "for i in range(5):\n",
    "    l.append(fruits[i])\n",
    "    t = t + (fruits[i],)\n",
    "    s.add(fruits[i])\n",
    "    d[i] = fruits[i]\n",
    "    \n",
    "print(l, type(l))\n",
    "print(t, type(t))\n",
    "print(s, type(s))\n",
    "print(d, type(d))"
   ]
  },
  {
   "cell_type": "code",
   "execution_count": 147,
   "id": "13a20832-3456-4f87-bce9-757b9d614cb5",
   "metadata": {},
   "outputs": [],
   "source": [
    "import re"
   ]
  },
  {
   "cell_type": "code",
   "execution_count": 152,
   "id": "bf35f8de-8255-4535-8440-154421e5d288",
   "metadata": {},
   "outputs": [
    {
     "data": {
      "text/plain": [
       "<re.Match object; span=(17, 20), match='com'>"
      ]
     },
     "execution_count": 152,
     "metadata": {},
     "output_type": "execute_result"
    }
   ],
   "source": [
    "aki = 'aki1531252@gmail.com'\n",
    "e_mail = '[a-zA-Z0-9_]+@[a-z]+\\.[a-z]'\n",
    "a = 'com$'\n",
    "b = 'aki'\n",
    "\n",
    "result = re.search(a, aki)\n",
    "result"
   ]
  },
  {
   "cell_type": "code",
   "execution_count": 150,
   "id": "a22744e9-fd2b-41f6-9832-1522d864644f",
   "metadata": {},
   "outputs": [
    {
     "name": "stdout",
     "output_type": "stream",
     "text": [
      "None\n"
     ]
    }
   ],
   "source": [
    "print(result)"
   ]
  },
  {
   "cell_type": "code",
   "execution_count": null,
   "id": "375ef171-356a-4d02-b688-333e38d91b00",
   "metadata": {},
   "outputs": [],
   "source": []
  }
 ],
 "metadata": {
  "kernelspec": {
   "display_name": "Python 3 (ipykernel)",
   "language": "python",
   "name": "python3"
  },
  "language_info": {
   "codemirror_mode": {
    "name": "ipython",
    "version": 3
   },
   "file_extension": ".py",
   "mimetype": "text/x-python",
   "name": "python",
   "nbconvert_exporter": "python",
   "pygments_lexer": "ipython3",
   "version": "3.9.13"
  }
 },
 "nbformat": 4,
 "nbformat_minor": 5
}
