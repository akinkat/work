{
 "cells": [
  {
   "cell_type": "code",
   "execution_count": 1,
   "id": "6636c4a8-a60f-4052-9885-873843f8363f",
   "metadata": {},
   "outputs": [
    {
     "name": "stdin",
     "output_type": "stream",
     "text": [
      "Number :  5\n"
     ]
    },
    {
     "name": "stdout",
     "output_type": "stream",
     "text": [
      "     * \n",
      "    * * \n",
      "   * * * \n",
      "  * * * * \n",
      " * * * * * \n"
     ]
    }
   ],
   "source": [
    "n = int(input('Number : '))\n",
    "              \n",
    "for i in range(1, n+1):\n",
    "    print(' '*(n-i), '* '*i)"
   ]
  },
  {
   "cell_type": "code",
   "execution_count": 2,
   "id": "6aa1e3e0-16ba-4ddb-a0f6-2034d64d1602",
   "metadata": {},
   "outputs": [
    {
     "name": "stdout",
     "output_type": "stream",
     "text": [
      "Luffyが歩きました。\n"
     ]
    }
   ],
   "source": [
    "class Person(object):\n",
    "    def __init__(self, name, age):\n",
    "        self.name = name\n",
    "        self.age = age\n",
    "        \n",
    "    def walk(self):\n",
    "        print(f'{self.name}が歩きました。')\n",
    "        \n",
    "\n",
    "class Animal(Person):\n",
    "    def __init__(self, name, age):\n",
    "        super().__init__(name, age)\n",
    "        \n",
    "    def breating(self):\n",
    "        print(f'{self.name}が呼吸をしました。')\n",
    "        \n",
    "\n",
    "luffy = Person('Luffy', 19)\n",
    "tama = Animal('Tama', 3)\n",
    "\n",
    "luffy.walk()"
   ]
  },
  {
   "cell_type": "code",
   "execution_count": 3,
   "id": "d5cc609d-20ad-47dd-a6f6-9c2c183d6a5d",
   "metadata": {},
   "outputs": [
    {
     "name": "stdout",
     "output_type": "stream",
     "text": [
      "Tamaが呼吸をしました。\n"
     ]
    }
   ],
   "source": [
    "tama.breating()"
   ]
  },
  {
   "cell_type": "code",
   "execution_count": null,
   "id": "3cdc4845-a3ed-442c-9422-4c3a16035605",
   "metadata": {},
   "outputs": [],
   "source": []
  }
 ],
 "metadata": {
  "kernelspec": {
   "display_name": "Python 3 (ipykernel)",
   "language": "python",
   "name": "python3"
  },
  "language_info": {
   "codemirror_mode": {
    "name": "ipython",
    "version": 3
   },
   "file_extension": ".py",
   "mimetype": "text/x-python",
   "name": "python",
   "nbconvert_exporter": "python",
   "pygments_lexer": "ipython3",
   "version": "3.9.13"
  }
 },
 "nbformat": 4,
 "nbformat_minor": 5
}
