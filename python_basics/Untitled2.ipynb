{
 "cells": [
  {
   "cell_type": "code",
   "execution_count": 1,
   "id": "6636c4a8-a60f-4052-9885-873843f8363f",
   "metadata": {},
   "outputs": [
    {
     "name": "stdin",
     "output_type": "stream",
     "text": [
      "Number :  5\n"
     ]
    },
    {
     "name": "stdout",
     "output_type": "stream",
     "text": [
      "     * \n",
      "    * * \n",
      "   * * * \n",
      "  * * * * \n",
      " * * * * * \n"
     ]
    }
   ],
   "source": [
    "n = int(input('Number : '))\n",
    "              \n",
    "for i in range(1, n+1):\n",
    "    print(' '*(n-i), '* '*i)"
   ]
  },
  {
   "cell_type": "code",
   "execution_count": 2,
   "id": "6aa1e3e0-16ba-4ddb-a0f6-2034d64d1602",
   "metadata": {},
   "outputs": [
    {
     "name": "stdout",
     "output_type": "stream",
     "text": [
      "Luffyが歩きました。\n"
     ]
    }
   ],
   "source": [
    "class Person(object):\n",
    "    def __init__(self, name, age):\n",
    "        self.name = name\n",
    "        self.age = age\n",
    "        \n",
    "    def walk(self):\n",
    "        print(f'{self.name}が歩きました。')\n",
    "        \n",
    "\n",
    "class Animal(Person):\n",
    "    def __init__(self, name, age):\n",
    "        super().__init__(name, age)\n",
    "        \n",
    "    def breating(self):\n",
    "        print(f'{self.name}が呼吸をしました。')\n",
    "        \n",
    "\n",
    "luffy = Person('Luffy', 19)\n",
    "tama = Animal('Tama', 3)\n",
    "\n",
    "luffy.walk()"
   ]
  },
  {
   "cell_type": "code",
   "execution_count": 3,
   "id": "d5cc609d-20ad-47dd-a6f6-9c2c183d6a5d",
   "metadata": {},
   "outputs": [
    {
     "name": "stdout",
     "output_type": "stream",
     "text": [
      "Tamaが呼吸をしました。\n"
     ]
    }
   ],
   "source": [
    "tama.breating()"
   ]
  },
  {
   "cell_type": "code",
   "execution_count": 16,
   "id": "3cdc4845-a3ed-442c-9422-4c3a16035605",
   "metadata": {},
   "outputs": [
    {
     "name": "stdout",
     "output_type": "stream",
     "text": [
      "1  2  3  4  5  6  7  8  9  \n",
      "2  4  6  8  10  12  14  16  18  \n",
      "3  6  9  12  15  18  21  24  27  \n",
      "4  8  12  16  20  24  28  32  36  \n",
      "5  10  15  20  25  30  35  40  45  \n",
      "6  12  18  24  30  36  42  48  54  \n",
      "7  14  21  28  35  42  49  56  63  \n",
      "8  16  24  32  40  48  56  64  72  \n",
      "9  18  27  36  45  54  63  72  81  \n"
     ]
    }
   ],
   "source": [
    "for i in range(1, 10):\n",
    "    for j in range(1, 10):\n",
    "        print(i * j, end='  ')\n",
    "    print()"
   ]
  },
  {
   "cell_type": "code",
   "execution_count": 20,
   "id": "137f0148-c099-44f3-89b2-764589456d46",
   "metadata": {},
   "outputs": [],
   "source": [
    "def fibo(n):\n",
    "    if n < 2:\n",
    "        return n\n",
    "    else:\n",
    "        n_1 = 1\n",
    "        n_2 = 0\n",
    "        for i in range(n-1):\n",
    "            result = n_1 + n_2\n",
    "            n_2 = n_1\n",
    "            n_1 = result\n",
    "        return result"
   ]
  },
  {
   "cell_type": "code",
   "execution_count": 21,
   "id": "fb328532-7934-4117-87f8-abe1fb0f93ce",
   "metadata": {},
   "outputs": [
    {
     "data": {
      "text/plain": [
       "21"
      ]
     },
     "execution_count": 21,
     "metadata": {},
     "output_type": "execute_result"
    }
   ],
   "source": [
    "fibo(8)"
   ]
  },
  {
   "cell_type": "code",
   "execution_count": 22,
   "id": "6fac8fad-340f-4a18-b735-3db75f23744d",
   "metadata": {},
   "outputs": [
    {
     "name": "stdout",
     "output_type": "stream",
     "text": [
      "10\n",
      "9\n",
      "8\n",
      "7\n",
      "6\n",
      "5\n",
      "4\n",
      "3\n",
      "2\n",
      "1\n"
     ]
    }
   ],
   "source": [
    "n = 10\n",
    "while n:\n",
    "    print(n)\n",
    "    n -= 1"
   ]
  },
  {
   "cell_type": "code",
   "execution_count": 35,
   "id": "ff51388a-be89-418f-a2f6-dda259d5dfd8",
   "metadata": {},
   "outputs": [],
   "source": [
    "class Person:\n",
    "    def __init__(self, name, hp, atk, dfn):\n",
    "        self.name = name\n",
    "        self.hp = hp\n",
    "        self.atk = atk\n",
    "        self.dfn = dfn\n",
    "        \n",
    "    def punch(self, t, power=500):\n",
    "        x = 1 + (self.atk / 1000)\n",
    "        damage = power * x\n",
    "        if t.hp <= damage:\n",
    "            damage = damage - t.hp\n",
    "            t.hp = 0\n",
    "            print(f'{t.name}はパンチでKOされました。')\n",
    "        else:\n",
    "            t.hp -= damage\n",
    "            \n",
    "    def kick(self, t, power=800):\n",
    "        x = 1 + (self.atk / 1000)\n",
    "        damage = power * x\n",
    "        if t.hp <= damage:\n",
    "            damage = damage - t.hp\n",
    "            t.hp = 0\n",
    "            print(f'{t.name}はキックでKOされました。')\n",
    "        else:\n",
    "            t.hp -= damage"
   ]
  },
  {
   "cell_type": "code",
   "execution_count": 39,
   "id": "cc1445a8-b25c-43e9-8a47-18749d41aef8",
   "metadata": {},
   "outputs": [],
   "source": [
    "luffy = Person('Luffy', 5000, 1250, 1000)\n",
    "nami = Person('Nami', 3000, 500, 250)\n",
    "zoro = Person('Zoro', 4500, 1500, 800)"
   ]
  },
  {
   "cell_type": "code",
   "execution_count": 40,
   "id": "f9d04c33-da48-40b4-97e9-8aa6884ac50a",
   "metadata": {},
   "outputs": [
    {
     "name": "stdout",
     "output_type": "stream",
     "text": [
      "Luffy 5000 1250 1000\n",
      "Zoro 4500 1500 800\n"
     ]
    }
   ],
   "source": [
    "print(luffy.name, luffy.hp, luffy.atk, luffy.dfn)\n",
    "print(zoro.name, zoro.hp, zoro.atk, zoro.dfn)"
   ]
  },
  {
   "cell_type": "code",
   "execution_count": 41,
   "id": "aad389a0-5bce-4d75-b135-8e47f81d0e30",
   "metadata": {},
   "outputs": [],
   "source": [
    "luffy.punch(zoro)\n",
    "luffy.kick(zoro)\n",
    "zoro.punch(luffy)"
   ]
  },
  {
   "cell_type": "code",
   "execution_count": 42,
   "id": "a1d57e47-f723-44b0-a5d1-22bf174cdb10",
   "metadata": {},
   "outputs": [
    {
     "name": "stdout",
     "output_type": "stream",
     "text": [
      "Luffy 3750.0 1250 1000\n",
      "Zoro 1575.0 1500 800\n"
     ]
    }
   ],
   "source": [
    "print(luffy.name, luffy.hp, luffy.atk, luffy.dfn)\n",
    "print(zoro.name, zoro.hp, zoro.atk, zoro.dfn)"
   ]
  },
  {
   "cell_type": "code",
   "execution_count": 43,
   "id": "04f01bbc-b619-42fb-8287-2bd4d8bfb75e",
   "metadata": {},
   "outputs": [
    {
     "name": "stdout",
     "output_type": "stream",
     "text": [
      "ZoroはキックでKOされました。\n"
     ]
    }
   ],
   "source": [
    "luffy.punch(zoro)\n",
    "luffy.kick(zoro)"
   ]
  },
  {
   "cell_type": "code",
   "execution_count": 44,
   "id": "d26484ae-1ecd-46b2-9f08-fd7e7e856ce0",
   "metadata": {},
   "outputs": [
    {
     "name": "stdout",
     "output_type": "stream",
     "text": [
      "Zoro 0 1500 800\n"
     ]
    }
   ],
   "source": [
    "print(zoro.name, zoro.hp, zoro.atk, zoro.dfn)"
   ]
  },
  {
   "cell_type": "code",
   "execution_count": 45,
   "id": "afe03705-e42a-4a0a-9719-d5f20fb47c72",
   "metadata": {},
   "outputs": [
    {
     "data": {
      "text/plain": [
       "1.25"
      ]
     },
     "execution_count": 45,
     "metadata": {},
     "output_type": "execute_result"
    }
   ],
   "source": [
    "1000 / 800"
   ]
  },
  {
   "cell_type": "code",
   "execution_count": 54,
   "id": "cf416989-2ecd-44d2-9b70-e3c18f9e2e99",
   "metadata": {},
   "outputs": [],
   "source": [
    "import random"
   ]
  },
  {
   "cell_type": "code",
   "execution_count": 57,
   "id": "160a404c-0757-44f9-b58d-76670bfeac81",
   "metadata": {},
   "outputs": [
    {
     "name": "stdout",
     "output_type": "stream",
     "text": [
      "[79, 78, 99, 29, 77, 63, 85, 55, 56, 29]\n",
      "{99, 77, 78, 79, 85, 55, 56, 29, 63}\n"
     ]
    }
   ],
   "source": [
    "nums_1 = []\n",
    "nums_2 = set()\n",
    "\n",
    "for i in range(10):\n",
    "    n = random.randint(1, 100)\n",
    "    nums_1.append(n)\n",
    "    nums_2.add(n)\n",
    "    \n",
    "print(nums_1)\n",
    "print(nums_2)"
   ]
  },
  {
   "cell_type": "code",
   "execution_count": 69,
   "id": "314253d0-a653-48dc-a68b-fb13aa18c24b",
   "metadata": {},
   "outputs": [
    {
     "name": "stdout",
     "output_type": "stream",
     "text": [
      "622\n",
      "378\n"
     ]
    }
   ],
   "source": [
    "under = 0\n",
    "upper = 0\n",
    "\n",
    "for i in range(1000):\n",
    "    if random.random() < 0.6:\n",
    "        under += 1\n",
    "    else:\n",
    "        upper += 1\n",
    "        \n",
    "print(under)\n",
    "print(upper)"
   ]
  },
  {
   "cell_type": "code",
   "execution_count": 87,
   "id": "ae574afe-ae04-4642-a3fd-d169ebaf942e",
   "metadata": {},
   "outputs": [],
   "source": [
    "n = 222"
   ]
  },
  {
   "cell_type": "code",
   "execution_count": null,
   "id": "71006ece-6397-405f-9993-6f48c3e6b6f7",
   "metadata": {},
   "outputs": [],
   "source": []
  }
 ],
 "metadata": {
  "kernelspec": {
   "display_name": "Python 3 (ipykernel)",
   "language": "python",
   "name": "python3"
  },
  "language_info": {
   "codemirror_mode": {
    "name": "ipython",
    "version": 3
   },
   "file_extension": ".py",
   "mimetype": "text/x-python",
   "name": "python",
   "nbconvert_exporter": "python",
   "pygments_lexer": "ipython3",
   "version": "3.9.13"
  }
 },
 "nbformat": 4,
 "nbformat_minor": 5
}
