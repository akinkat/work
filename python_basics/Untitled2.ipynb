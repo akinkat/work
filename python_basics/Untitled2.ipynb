{
 "cells": [
  {
   "cell_type": "code",
   "execution_count": 1,
   "id": "6636c4a8-a60f-4052-9885-873843f8363f",
   "metadata": {},
   "outputs": [
    {
     "name": "stdin",
     "output_type": "stream",
     "text": [
      "Number :  5\n"
     ]
    },
    {
     "name": "stdout",
     "output_type": "stream",
     "text": [
      "     * \n",
      "    * * \n",
      "   * * * \n",
      "  * * * * \n",
      " * * * * * \n"
     ]
    }
   ],
   "source": [
    "n = int(input('Number : '))\n",
    "              \n",
    "for i in range(1, n+1):\n",
    "    print(' '*(n-i), '* '*i)"
   ]
  },
  {
   "cell_type": "code",
   "execution_count": 2,
   "id": "6aa1e3e0-16ba-4ddb-a0f6-2034d64d1602",
   "metadata": {},
   "outputs": [
    {
     "name": "stdout",
     "output_type": "stream",
     "text": [
      "Luffyが歩きました。\n"
     ]
    }
   ],
   "source": [
    "class Person(object):\n",
    "    def __init__(self, name, age):\n",
    "        self.name = name\n",
    "        self.age = age\n",
    "        \n",
    "    def walk(self):\n",
    "        print(f'{self.name}が歩きました。')\n",
    "        \n",
    "\n",
    "class Animal(Person):\n",
    "    def __init__(self, name, age):\n",
    "        super().__init__(name, age)\n",
    "        \n",
    "    def breating(self):\n",
    "        print(f'{self.name}が呼吸をしました。')\n",
    "        \n",
    "\n",
    "luffy = Person('Luffy', 19)\n",
    "tama = Animal('Tama', 3)\n",
    "\n",
    "luffy.walk()"
   ]
  },
  {
   "cell_type": "code",
   "execution_count": 3,
   "id": "d5cc609d-20ad-47dd-a6f6-9c2c183d6a5d",
   "metadata": {},
   "outputs": [
    {
     "name": "stdout",
     "output_type": "stream",
     "text": [
      "Tamaが呼吸をしました。\n"
     ]
    }
   ],
   "source": [
    "tama.breating()"
   ]
  },
  {
   "cell_type": "code",
   "execution_count": 16,
   "id": "3cdc4845-a3ed-442c-9422-4c3a16035605",
   "metadata": {},
   "outputs": [
    {
     "name": "stdout",
     "output_type": "stream",
     "text": [
      "1  2  3  4  5  6  7  8  9  \n",
      "2  4  6  8  10  12  14  16  18  \n",
      "3  6  9  12  15  18  21  24  27  \n",
      "4  8  12  16  20  24  28  32  36  \n",
      "5  10  15  20  25  30  35  40  45  \n",
      "6  12  18  24  30  36  42  48  54  \n",
      "7  14  21  28  35  42  49  56  63  \n",
      "8  16  24  32  40  48  56  64  72  \n",
      "9  18  27  36  45  54  63  72  81  \n"
     ]
    }
   ],
   "source": [
    "for i in range(1, 10):\n",
    "    for j in range(1, 10):\n",
    "        print(i * j, end='  ')\n",
    "    print()"
   ]
  },
  {
   "cell_type": "code",
   "execution_count": 20,
   "id": "137f0148-c099-44f3-89b2-764589456d46",
   "metadata": {},
   "outputs": [],
   "source": [
    "def fibo(n):\n",
    "    if n < 2:\n",
    "        return n\n",
    "    else:\n",
    "        n_1 = 1\n",
    "        n_2 = 0\n",
    "        for i in range(n-1):\n",
    "            result = n_1 + n_2\n",
    "            n_2 = n_1\n",
    "            n_1 = result\n",
    "        return result"
   ]
  },
  {
   "cell_type": "code",
   "execution_count": 21,
   "id": "fb328532-7934-4117-87f8-abe1fb0f93ce",
   "metadata": {},
   "outputs": [
    {
     "data": {
      "text/plain": [
       "21"
      ]
     },
     "execution_count": 21,
     "metadata": {},
     "output_type": "execute_result"
    }
   ],
   "source": [
    "fibo(8)"
   ]
  },
  {
   "cell_type": "code",
   "execution_count": null,
   "id": "6fac8fad-340f-4a18-b735-3db75f23744d",
   "metadata": {},
   "outputs": [],
   "source": []
  }
 ],
 "metadata": {
  "kernelspec": {
   "display_name": "Python 3 (ipykernel)",
   "language": "python",
   "name": "python3"
  },
  "language_info": {
   "codemirror_mode": {
    "name": "ipython",
    "version": 3
   },
   "file_extension": ".py",
   "mimetype": "text/x-python",
   "name": "python",
   "nbconvert_exporter": "python",
   "pygments_lexer": "ipython3",
   "version": "3.9.13"
  }
 },
 "nbformat": 4,
 "nbformat_minor": 5
}
