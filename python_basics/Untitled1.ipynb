{
 "cells": [
  {
   "cell_type": "code",
   "execution_count": 11,
   "id": "195962e0-61fb-4ce6-bcf8-5396b4d1a1df",
   "metadata": {},
   "outputs": [],
   "source": [
    "def show_prime_number(start_num, stop_num):\n",
    "    prime_nums = []\n",
    "    \n",
    "    for n in range(start_num, stop_num+1):\n",
    "        if n < 2:\n",
    "            continue\n",
    "        \n",
    "        is_prime = True\n",
    "        i = 2\n",
    "        while i * i <= n:\n",
    "            if n % i == 0:\n",
    "                is_prime = False\n",
    "                break\n",
    "            i += 1\n",
    "            \n",
    "        if is_prime:\n",
    "            prime_nums.append(n)\n",
    "            \n",
    "    return prime_nums"
   ]
  },
  {
   "cell_type": "code",
   "execution_count": 7,
   "id": "df0c95ca-2b7e-4742-a700-39246883d16d",
   "metadata": {},
   "outputs": [
    {
     "data": {
      "text/plain": [
       "143"
      ]
     },
     "execution_count": 7,
     "metadata": {},
     "output_type": "execute_result"
    }
   ],
   "source": [
    "answer = show_prime_number(100, 1000)\n",
    "len(answer)"
   ]
  },
  {
   "cell_type": "code",
   "execution_count": 10,
   "id": "fbcfbaef-6611-4345-9d72-ee7c352d205a",
   "metadata": {},
   "outputs": [
    {
     "name": "stdout",
     "output_type": "stream",
     "text": [
      "1\n"
     ]
    },
    {
     "data": {
      "text/plain": [
       "[2, 3]"
      ]
     },
     "execution_count": 10,
     "metadata": {},
     "output_type": "execute_result"
    }
   ],
   "source": [
    "show_prime_number(1, 3)"
   ]
  },
  {
   "cell_type": "code",
   "execution_count": 42,
   "id": "08c77a00-ec39-49db-a564-698e2a7a1aeb",
   "metadata": {},
   "outputs": [],
   "source": [
    "def is_prime(n):\n",
    "    if n < 2:\n",
    "        return False\n",
    "    if n == 2:\n",
    "        return True\n",
    "    if n % 2 == 0:\n",
    "        return False\n",
    "    \n",
    "    i = 3\n",
    "    count = 0\n",
    "    while i * i <= n:\n",
    "        if n % i == 0:\n",
    "            print(count)\n",
    "            return False\n",
    "        i += 2\n",
    "        count += 1\n",
    "    print(count)\n",
    "    return True"
   ]
  },
  {
   "cell_type": "code",
   "execution_count": 43,
   "id": "4f946c30-62f8-45aa-ac9a-e3ef813612c5",
   "metadata": {},
   "outputs": [
    {
     "name": "stdout",
     "output_type": "stream",
     "text": [
      "14\n"
     ]
    },
    {
     "data": {
      "text/plain": [
       "False"
      ]
     },
     "execution_count": 43,
     "metadata": {},
     "output_type": "execute_result"
    }
   ],
   "source": [
    "is_prime(1457)"
   ]
  },
  {
   "cell_type": "code",
   "execution_count": 44,
   "id": "70e44a4f-493e-4b5c-984f-8fd310881de2",
   "metadata": {},
   "outputs": [
    {
     "data": {
      "text/plain": [
       "0"
      ]
     },
     "execution_count": 44,
     "metadata": {},
     "output_type": "execute_result"
    }
   ],
   "source": [
    "1457 % (3+(2*14))"
   ]
  },
  {
   "cell_type": "code",
   "execution_count": 22,
   "id": "1ca8f0e3-6a95-4f94-b16a-939a3317af97",
   "metadata": {},
   "outputs": [
    {
     "data": {
      "text/plain": [
       "1"
      ]
     },
     "execution_count": 22,
     "metadata": {},
     "output_type": "execute_result"
    }
   ],
   "source": [
    "1459 % 3+"
   ]
  },
  {
   "cell_type": "code",
   "execution_count": 26,
   "id": "1f068431-8c22-4fca-b199-21cba2e547c3",
   "metadata": {},
   "outputs": [
    {
     "data": {
      "text/plain": [
       "39"
      ]
     },
     "execution_count": 26,
     "metadata": {},
     "output_type": "execute_result"
    }
   ],
   "source": [
    "n = 3\n",
    "\n",
    "for i in range(18):\n",
    "    n += 2\n",
    "    \n",
    "n"
   ]
  },
  {
   "cell_type": "code",
   "execution_count": 27,
   "id": "9020a6b8-20e0-4c1c-a8cd-b9bc607f59cb",
   "metadata": {},
   "outputs": [
    {
     "data": {
      "text/plain": [
       "1521"
      ]
     },
     "execution_count": 27,
     "metadata": {},
     "output_type": "execute_result"
    }
   ],
   "source": [
    "39 * 39"
   ]
  },
  {
   "cell_type": "code",
   "execution_count": 28,
   "id": "f8f59011-a31c-41f8-8e3f-89d56c68c7ba",
   "metadata": {},
   "outputs": [
    {
     "data": {
      "text/plain": [
       "1369"
      ]
     },
     "execution_count": 28,
     "metadata": {},
     "output_type": "execute_result"
    }
   ],
   "source": [
    "37 * 37"
   ]
  },
  {
   "cell_type": "code",
   "execution_count": 29,
   "id": "f667708b-28a2-4af4-b5d8-75b75184a790",
   "metadata": {},
   "outputs": [
    {
     "data": {
      "text/plain": [
       "16"
      ]
     },
     "execution_count": 29,
     "metadata": {},
     "output_type": "execute_result"
    }
   ],
   "source": [
    "1459 % 39"
   ]
  },
  {
   "cell_type": "code",
   "execution_count": null,
   "id": "502b5c2d-c818-4f11-9560-a32ec3675f98",
   "metadata": {},
   "outputs": [],
   "source": []
  }
 ],
 "metadata": {
  "kernelspec": {
   "display_name": "Python 3 (ipykernel)",
   "language": "python",
   "name": "python3"
  },
  "language_info": {
   "codemirror_mode": {
    "name": "ipython",
    "version": 3
   },
   "file_extension": ".py",
   "mimetype": "text/x-python",
   "name": "python",
   "nbconvert_exporter": "python",
   "pygments_lexer": "ipython3",
   "version": "3.9.13"
  }
 },
 "nbformat": 4,
 "nbformat_minor": 5
}
