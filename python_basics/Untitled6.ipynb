{
 "cells": [
  {
   "cell_type": "code",
   "execution_count": 2,
   "id": "bce0ac45-cd36-4b97-b729-d9c66a9858a6",
   "metadata": {},
   "outputs": [],
   "source": [
    "import random"
   ]
  },
  {
   "cell_type": "code",
   "execution_count": 21,
   "id": "c47b94ae-a850-4e45-afdf-e4b4c6980450",
   "metadata": {},
   "outputs": [
    {
     "name": "stdout",
     "output_type": "stream",
     "text": [
      "lucky 76\n"
     ]
    }
   ],
   "source": [
    "nums = [random.randint(1, 100) for _ in range(10)]\n",
    "\n",
    "def luccy(n, p=77):\n",
    "    if n == p:\n",
    "        return True\n",
    "    \n",
    "count = 0\n",
    "for _ in range(100):\n",
    "    n = random.randint(1, 100)\n",
    "    judge = luccy(n)\n",
    "    if judge is True:\n",
    "        print('lucky', count)\n",
    "        count += 1\n",
    "    else:\n",
    "        count += 1"
   ]
  },
  {
   "cell_type": "code",
   "execution_count": 26,
   "id": "ff1d5dd2-fe13-4cd5-8971-0d2a10c5d872",
   "metadata": {},
   "outputs": [],
   "source": [
    "import time"
   ]
  },
  {
   "cell_type": "code",
   "execution_count": 29,
   "id": "d6bbcffa-a5e8-4fbd-a892-667ade646f4b",
   "metadata": {},
   "outputs": [],
   "source": [
    "def fictorial(n):\n",
    "    if n <= 2:\n",
    "        return n\n",
    "    else:\n",
    "        return fictorial(n-1) * n"
   ]
  },
  {
   "cell_type": "code",
   "execution_count": 32,
   "id": "4ee3e6cc-e419-4b65-be6e-3582d48a4334",
   "metadata": {},
   "outputs": [
    {
     "data": {
      "text/plain": [
       "24"
      ]
     },
     "execution_count": 32,
     "metadata": {},
     "output_type": "execute_result"
    }
   ],
   "source": [
    "fictorial(4)"
   ]
  },
  {
   "cell_type": "code",
   "execution_count": 33,
   "id": "ef517545-5e34-43a7-a5e1-9863d2b1e03a",
   "metadata": {},
   "outputs": [
    {
     "name": "stdout",
     "output_type": "stream",
     "text": [
      "3628800 8.988380432128906e-05\n"
     ]
    }
   ],
   "source": [
    "before = time.time()\n",
    "result = fictorial(10)\n",
    "after = time.time()\n",
    "total = after - before\n",
    "print(result, total)"
   ]
  },
  {
   "cell_type": "code",
   "execution_count": 35,
   "id": "bcddf66f-5ebb-4fa4-83df-659595346b3a",
   "metadata": {},
   "outputs": [
    {
     "name": "stdout",
     "output_type": "stream",
     "text": [
      "30414093201713378043612608166064768844377641568960512000000000000 0.00010418891906738281\n"
     ]
    }
   ],
   "source": [
    "before = time.time()\n",
    "result = fictorial(50)\n",
    "after = time.time()\n",
    "total = after - before\n",
    "print(result, total)"
   ]
  },
  {
   "cell_type": "code",
   "execution_count": null,
   "id": "43b4c52d-12a3-48ed-b395-744c1ef79513",
   "metadata": {},
   "outputs": [],
   "source": []
  }
 ],
 "metadata": {
  "kernelspec": {
   "display_name": "Python 3 (ipykernel)",
   "language": "python",
   "name": "python3"
  },
  "language_info": {
   "codemirror_mode": {
    "name": "ipython",
    "version": 3
   },
   "file_extension": ".py",
   "mimetype": "text/x-python",
   "name": "python",
   "nbconvert_exporter": "python",
   "pygments_lexer": "ipython3",
   "version": "3.9.13"
  }
 },
 "nbformat": 4,
 "nbformat_minor": 5
}
