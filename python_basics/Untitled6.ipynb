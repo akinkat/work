{
 "cells": [
  {
   "cell_type": "code",
   "execution_count": 2,
   "id": "bce0ac45-cd36-4b97-b729-d9c66a9858a6",
   "metadata": {},
   "outputs": [],
   "source": [
    "import random"
   ]
  },
  {
   "cell_type": "code",
   "execution_count": 14,
   "id": "c47b94ae-a850-4e45-afdf-e4b4c6980450",
   "metadata": {},
   "outputs": [
    {
     "name": "stdout",
     "output_type": "stream",
     "text": [
      "lucky 33\n",
      "lucky 33\n",
      "lucky 48\n",
      "lucky 74\n"
     ]
    }
   ],
   "source": [
    "nums = [random.randint(1, 100) for _ in range(10)]\n",
    "\n",
    "def luccy(n, p=77):\n",
    "    if n == p:\n",
    "        return True\n",
    "    \n",
    "count = 0\n",
    "for _ in range(100):\n",
    "    n = random.randint(1, 100)\n",
    "    judge = luccy(n)\n",
    "    if judge is True:\n",
    "        print('lucky', count)\n",
    "    else:\n",
    "        count += 1"
   ]
  },
  {
   "cell_type": "code",
   "execution_count": null,
   "id": "ff1d5dd2-fe13-4cd5-8971-0d2a10c5d872",
   "metadata": {},
   "outputs": [],
   "source": []
  }
 ],
 "metadata": {
  "kernelspec": {
   "display_name": "Python 3 (ipykernel)",
   "language": "python",
   "name": "python3"
  },
  "language_info": {
   "codemirror_mode": {
    "name": "ipython",
    "version": 3
   },
   "file_extension": ".py",
   "mimetype": "text/x-python",
   "name": "python",
   "nbconvert_exporter": "python",
   "pygments_lexer": "ipython3",
   "version": "3.9.13"
  }
 },
 "nbformat": 4,
 "nbformat_minor": 5
}
