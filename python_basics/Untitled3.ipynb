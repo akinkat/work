{
 "cells": [
  {
   "cell_type": "code",
   "execution_count": 1,
   "id": "910cd3dc-687c-4471-a499-7344f25ca544",
   "metadata": {},
   "outputs": [],
   "source": [
    "import time"
   ]
  },
  {
   "cell_type": "code",
   "execution_count": 2,
   "id": "46f517f1-09d4-42f2-9e27-bf2d22efc9af",
   "metadata": {},
   "outputs": [],
   "source": [
    "def fibo(n):\n",
    "    if n < 2:\n",
    "        return n\n",
    "    \n",
    "    n_1 = 1\n",
    "    n_2 = 0\n",
    "    \n",
    "    for i in range(n-1):\n",
    "        result = n_1 + n_2\n",
    "        n_2 = n_1\n",
    "        n_1 = result\n",
    "        \n",
    "    return result"
   ]
  },
  {
   "cell_type": "code",
   "execution_count": 16,
   "id": "9d1c9ef4-551b-412a-bb9c-6b554859e9d1",
   "metadata": {},
   "outputs": [
    {
     "data": {
      "text/plain": [
       "21"
      ]
     },
     "execution_count": 16,
     "metadata": {},
     "output_type": "execute_result"
    }
   ],
   "source": [
    "fibo(8)"
   ]
  },
  {
   "cell_type": "code",
   "execution_count": 4,
   "id": "625775a5-f711-4fb2-a3d6-d6feae1edeb8",
   "metadata": {},
   "outputs": [
    {
     "data": {
      "text/plain": [
       "0"
      ]
     },
     "execution_count": 4,
     "metadata": {},
     "output_type": "execute_result"
    }
   ],
   "source": [
    "fibo(0)"
   ]
  },
  {
   "cell_type": "code",
   "execution_count": 8,
   "id": "9911e499-e391-4214-925d-791104d37405",
   "metadata": {},
   "outputs": [
    {
     "data": {
      "text/plain": [
       "3"
      ]
     },
     "execution_count": 8,
     "metadata": {},
     "output_type": "execute_result"
    }
   ],
   "source": [
    "fibo(4)"
   ]
  },
  {
   "cell_type": "code",
   "execution_count": 9,
   "id": "5288c96c-7848-45aa-bebd-6f73356974dd",
   "metadata": {},
   "outputs": [
    {
     "name": "stdout",
     "output_type": "stream",
     "text": [
      "222232244629420445529739893461909967206666939096499764990979600 0.0002639293670654297\n"
     ]
    }
   ],
   "source": [
    "before = time.time()\n",
    "result = fibo(300)\n",
    "after = time.time()\n",
    "total = after - before\n",
    "print(result, total)"
   ]
  },
  {
   "cell_type": "code",
   "execution_count": 13,
   "id": "a6b570a5-87e4-4265-aad4-8f8643011f55",
   "metadata": {},
   "outputs": [],
   "source": [
    "def fibo2(n):\n",
    "    if n <= 2:\n",
    "        return 1\n",
    "    return fibo2(n-1) + fibo2(n-2)"
   ]
  },
  {
   "cell_type": "code",
   "execution_count": 15,
   "id": "a7d9af48-950d-4819-972d-cb39635cb0bf",
   "metadata": {},
   "outputs": [
    {
     "data": {
      "text/plain": [
       "21"
      ]
     },
     "execution_count": 15,
     "metadata": {},
     "output_type": "execute_result"
    }
   ],
   "source": [
    "fibo2(8)"
   ]
  },
  {
   "cell_type": "code",
   "execution_count": 17,
   "id": "4fc9385a-559d-4a55-a60b-33af91cd09d1",
   "metadata": {},
   "outputs": [
    {
     "name": "stdout",
     "output_type": "stream",
     "text": [
      "832040 0.34504008293151855\n"
     ]
    }
   ],
   "source": [
    "before = time.time()\n",
    "result = fibo2(30)\n",
    "after = time.time()\n",
    "total = after - before\n",
    "print(result, total)"
   ]
  },
  {
   "cell_type": "code",
   "execution_count": 25,
   "id": "b0d58c1d-2093-42f4-8317-4d9e67c620c2",
   "metadata": {},
   "outputs": [
    {
     "name": "stdin",
     "output_type": "stream",
     "text": [
      "User:  7\n"
     ]
    },
    {
     "name": "stdout",
     "output_type": "stream",
     "text": [
      "change: 7:<class 'str'> -> 7:<class 'int'>\n"
     ]
    }
   ],
   "source": [
    "n = input('User: ')\n",
    "\n",
    "if isinstance(n, str):\n",
    "    try:\n",
    "        i = int(n)\n",
    "        print(f'change: {n}:{type(n)} -> {i}:{type(i)}')\n",
    "    except ValueError:\n",
    "        print('変換できませんでした。')"
   ]
  },
  {
   "cell_type": "code",
   "execution_count": 27,
   "id": "f1d7daf8-42ce-421a-b7fa-35c95d92f7ab",
   "metadata": {},
   "outputs": [
    {
     "name": "stdout",
     "output_type": "stream",
     "text": [
      "14\n"
     ]
    }
   ],
   "source": [
    "print(i+7)"
   ]
  },
  {
   "cell_type": "code",
   "execution_count": 28,
   "id": "06aa50dc-6bd9-4503-b1bc-414222f2b702",
   "metadata": {},
   "outputs": [
    {
     "name": "stdout",
     "output_type": "stream",
     "text": [
      "77\n"
     ]
    }
   ],
   "source": [
    "print(n+'7')"
   ]
  },
  {
   "cell_type": "code",
   "execution_count": 35,
   "id": "4bbead98-d06d-4d12-8605-2041969b11b8",
   "metadata": {},
   "outputs": [
    {
     "name": "stdin",
     "output_type": "stream",
     "text": [
      "Number(0~100):  100\n"
     ]
    },
    {
     "name": "stdout",
     "output_type": "stream",
     "text": [
      "100\n"
     ]
    }
   ],
   "source": [
    "num = 100\n",
    "n = int(input(f'Number(0~{num}): '))\n",
    "\n",
    "count = 0\n",
    "for i in range(num+1):\n",
    "    if n == i:\n",
    "        print(count)\n",
    "        break\n",
    "    count += 1"
   ]
  },
  {
   "cell_type": "code",
   "execution_count": 38,
   "id": "870da044-53e3-44cd-8484-36a5b6ac9cea",
   "metadata": {},
   "outputs": [],
   "source": [
    "import random"
   ]
  },
  {
   "cell_type": "code",
   "execution_count": 39,
   "id": "fb0e79a7-4ab9-46f0-a574-8202cdcc5aa5",
   "metadata": {},
   "outputs": [
    {
     "data": {
      "text/plain": [
       "[0.7006891741077609,\n",
       " 0.16541809263310525,\n",
       " 0.03394857338101176,\n",
       " 0.9002022333580108,\n",
       " 0.4800729303962107,\n",
       " 0.3376285657107535,\n",
       " 0.5611354440215358,\n",
       " 0.19501871092983647,\n",
       " 0.054007977003764696,\n",
       " 0.9234976098668137]"
      ]
     },
     "execution_count": 39,
     "metadata": {},
     "output_type": "execute_result"
    }
   ],
   "source": [
    "nums = [random.random() for i in range(10)]\n",
    "nums"
   ]
  },
  {
   "cell_type": "code",
   "execution_count": 40,
   "id": "240d806d-79a6-48f0-91ad-87e9d81f1db5",
   "metadata": {},
   "outputs": [
    {
     "data": {
      "text/plain": [
       "[4,\n",
       " 16,\n",
       " 36,\n",
       " 64,\n",
       " 100,\n",
       " 144,\n",
       " 196,\n",
       " 256,\n",
       " 324,\n",
       " 400,\n",
       " 484,\n",
       " 576,\n",
       " 676,\n",
       " 784,\n",
       " 900,\n",
       " 1024,\n",
       " 1156,\n",
       " 1296,\n",
       " 1444,\n",
       " 1600,\n",
       " 1764,\n",
       " 1936,\n",
       " 2116,\n",
       " 2304,\n",
       " 2500,\n",
       " 2704,\n",
       " 2916,\n",
       " 3136,\n",
       " 3364,\n",
       " 3600,\n",
       " 3844,\n",
       " 4096,\n",
       " 4356,\n",
       " 4624,\n",
       " 4900,\n",
       " 5184,\n",
       " 5476,\n",
       " 5776,\n",
       " 6084,\n",
       " 6400,\n",
       " 6724,\n",
       " 7056,\n",
       " 7396,\n",
       " 7744,\n",
       " 8100,\n",
       " 8464,\n",
       " 8836,\n",
       " 9216,\n",
       " 9604]"
      ]
     },
     "execution_count": 40,
     "metadata": {},
     "output_type": "execute_result"
    }
   ],
   "source": [
    "nums = [i**2 for i in range(1, 100) if i % 2 == 0]\n",
    "nums"
   ]
  },
  {
   "cell_type": "code",
   "execution_count": 41,
   "id": "39d5600b-13b8-4d18-842f-f87e10775cf3",
   "metadata": {},
   "outputs": [
    {
     "name": "stdout",
     "output_type": "stream",
     "text": [
      "1 one\n",
      "2 two\n",
      "3 three\n",
      "4 four\n",
      "5 five\n"
     ]
    }
   ],
   "source": [
    "nums = {1: 'one', 2: 'two', 3: 'three', 4: 'four', 5: 'five'}\n",
    "\n",
    "for k, v in nums.items():\n",
    "    print(k, v)"
   ]
  },
  {
   "cell_type": "code",
   "execution_count": 44,
   "id": "3053f27c-f60f-416b-bf77-52fa8098c290",
   "metadata": {},
   "outputs": [
    {
     "data": {
      "text/plain": [
       "{1: 'One', 2: 'two', 3: 'three', 4: 'four', 5: 'five', 6: 'six'}"
      ]
     },
     "execution_count": 44,
     "metadata": {},
     "output_type": "execute_result"
    }
   ],
   "source": [
    "nums[1] = 'One'\n",
    "nums[6] = 'six'\n",
    "nums"
   ]
  },
  {
   "cell_type": "code",
   "execution_count": null,
   "id": "e53060b6-c9fb-4951-a0c2-bc8bc3e33e1e",
   "metadata": {},
   "outputs": [],
   "source": []
  }
 ],
 "metadata": {
  "kernelspec": {
   "display_name": "Python 3 (ipykernel)",
   "language": "python",
   "name": "python3"
  },
  "language_info": {
   "codemirror_mode": {
    "name": "ipython",
    "version": 3
   },
   "file_extension": ".py",
   "mimetype": "text/x-python",
   "name": "python",
   "nbconvert_exporter": "python",
   "pygments_lexer": "ipython3",
   "version": "3.9.13"
  }
 },
 "nbformat": 4,
 "nbformat_minor": 5
}
