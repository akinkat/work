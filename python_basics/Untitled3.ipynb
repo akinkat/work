{
 "cells": [
  {
   "cell_type": "code",
   "execution_count": 1,
   "id": "910cd3dc-687c-4471-a499-7344f25ca544",
   "metadata": {},
   "outputs": [],
   "source": [
    "import time"
   ]
  },
  {
   "cell_type": "code",
   "execution_count": 2,
   "id": "46f517f1-09d4-42f2-9e27-bf2d22efc9af",
   "metadata": {},
   "outputs": [],
   "source": [
    "def fibo(n):\n",
    "    if n < 2:\n",
    "        return n\n",
    "    \n",
    "    n_1 = 1\n",
    "    n_2 = 0\n",
    "    \n",
    "    for i in range(n-1):\n",
    "        result = n_1 + n_2\n",
    "        n_2 = n_1\n",
    "        n_1 = result\n",
    "        \n",
    "    return result"
   ]
  },
  {
   "cell_type": "code",
   "execution_count": 16,
   "id": "9d1c9ef4-551b-412a-bb9c-6b554859e9d1",
   "metadata": {},
   "outputs": [
    {
     "data": {
      "text/plain": [
       "21"
      ]
     },
     "execution_count": 16,
     "metadata": {},
     "output_type": "execute_result"
    }
   ],
   "source": [
    "fibo(8)"
   ]
  },
  {
   "cell_type": "code",
   "execution_count": 4,
   "id": "625775a5-f711-4fb2-a3d6-d6feae1edeb8",
   "metadata": {},
   "outputs": [
    {
     "data": {
      "text/plain": [
       "0"
      ]
     },
     "execution_count": 4,
     "metadata": {},
     "output_type": "execute_result"
    }
   ],
   "source": [
    "fibo(0)"
   ]
  },
  {
   "cell_type": "code",
   "execution_count": 8,
   "id": "9911e499-e391-4214-925d-791104d37405",
   "metadata": {},
   "outputs": [
    {
     "data": {
      "text/plain": [
       "3"
      ]
     },
     "execution_count": 8,
     "metadata": {},
     "output_type": "execute_result"
    }
   ],
   "source": [
    "fibo(4)"
   ]
  },
  {
   "cell_type": "code",
   "execution_count": 9,
   "id": "5288c96c-7848-45aa-bebd-6f73356974dd",
   "metadata": {},
   "outputs": [
    {
     "name": "stdout",
     "output_type": "stream",
     "text": [
      "222232244629420445529739893461909967206666939096499764990979600 0.0002639293670654297\n"
     ]
    }
   ],
   "source": [
    "before = time.time()\n",
    "result = fibo(300)\n",
    "after = time.time()\n",
    "total = after - before\n",
    "print(result, total)"
   ]
  },
  {
   "cell_type": "code",
   "execution_count": 13,
   "id": "a6b570a5-87e4-4265-aad4-8f8643011f55",
   "metadata": {},
   "outputs": [],
   "source": [
    "def fibo2(n):\n",
    "    if n <= 2:\n",
    "        return 1\n",
    "    return fibo2(n-1) + fibo2(n-2)"
   ]
  },
  {
   "cell_type": "code",
   "execution_count": 15,
   "id": "a7d9af48-950d-4819-972d-cb39635cb0bf",
   "metadata": {},
   "outputs": [
    {
     "data": {
      "text/plain": [
       "21"
      ]
     },
     "execution_count": 15,
     "metadata": {},
     "output_type": "execute_result"
    }
   ],
   "source": [
    "fibo2(8)"
   ]
  },
  {
   "cell_type": "code",
   "execution_count": 17,
   "id": "4fc9385a-559d-4a55-a60b-33af91cd09d1",
   "metadata": {},
   "outputs": [
    {
     "name": "stdout",
     "output_type": "stream",
     "text": [
      "832040 0.34504008293151855\n"
     ]
    }
   ],
   "source": [
    "before = time.time()\n",
    "result = fibo2(30)\n",
    "after = time.time()\n",
    "total = after - before\n",
    "print(result, total)"
   ]
  },
  {
   "cell_type": "code",
   "execution_count": 25,
   "id": "b0d58c1d-2093-42f4-8317-4d9e67c620c2",
   "metadata": {},
   "outputs": [
    {
     "name": "stdin",
     "output_type": "stream",
     "text": [
      "User:  7\n"
     ]
    },
    {
     "name": "stdout",
     "output_type": "stream",
     "text": [
      "change: 7:<class 'str'> -> 7:<class 'int'>\n"
     ]
    }
   ],
   "source": [
    "n = input('User: ')\n",
    "\n",
    "if isinstance(n, str):\n",
    "    try:\n",
    "        i = int(n)\n",
    "        print(f'change: {n}:{type(n)} -> {i}:{type(i)}')\n",
    "    except ValueError:\n",
    "        print('変換できませんでした。')"
   ]
  },
  {
   "cell_type": "code",
   "execution_count": 27,
   "id": "f1d7daf8-42ce-421a-b7fa-35c95d92f7ab",
   "metadata": {},
   "outputs": [
    {
     "name": "stdout",
     "output_type": "stream",
     "text": [
      "14\n"
     ]
    }
   ],
   "source": [
    "print(i+7)"
   ]
  },
  {
   "cell_type": "code",
   "execution_count": 28,
   "id": "06aa50dc-6bd9-4503-b1bc-414222f2b702",
   "metadata": {},
   "outputs": [
    {
     "name": "stdout",
     "output_type": "stream",
     "text": [
      "77\n"
     ]
    }
   ],
   "source": [
    "print(n+'7')"
   ]
  },
  {
   "cell_type": "code",
   "execution_count": null,
   "id": "4bbead98-d06d-4d12-8605-2041969b11b8",
   "metadata": {},
   "outputs": [],
   "source": []
  }
 ],
 "metadata": {
  "kernelspec": {
   "display_name": "Python 3 (ipykernel)",
   "language": "python",
   "name": "python3"
  },
  "language_info": {
   "codemirror_mode": {
    "name": "ipython",
    "version": 3
   },
   "file_extension": ".py",
   "mimetype": "text/x-python",
   "name": "python",
   "nbconvert_exporter": "python",
   "pygments_lexer": "ipython3",
   "version": "3.9.13"
  }
 },
 "nbformat": 4,
 "nbformat_minor": 5
}
