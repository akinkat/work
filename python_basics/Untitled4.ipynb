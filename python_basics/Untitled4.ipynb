{
 "cells": [
  {
   "cell_type": "code",
   "execution_count": 1,
   "id": "d7fe25ed-f45c-40ee-b001-14422ce55fd2",
   "metadata": {},
   "outputs": [
    {
     "data": {
      "text/plain": [
       "True"
      ]
     },
     "execution_count": 1,
     "metadata": {},
     "output_type": "execute_result"
    }
   ],
   "source": [
    "a = 1\n",
    "b = '1'\n",
    "c = True\n",
    "d = None\n",
    "\n",
    "isinstance(a, int)"
   ]
  },
  {
   "cell_type": "code",
   "execution_count": 2,
   "id": "514aa738-863d-466f-bd55-ca1589baa118",
   "metadata": {},
   "outputs": [
    {
     "data": {
      "text/plain": [
       "True"
      ]
     },
     "execution_count": 2,
     "metadata": {},
     "output_type": "execute_result"
    }
   ],
   "source": [
    "isinstance(c, bool)"
   ]
  },
  {
   "cell_type": "code",
   "execution_count": 7,
   "id": "9346bad4-f46d-4b4e-8d9a-b3b9fea6ceee",
   "metadata": {},
   "outputs": [
    {
     "data": {
      "text/plain": [
       "True"
      ]
     },
     "execution_count": 7,
     "metadata": {},
     "output_type": "execute_result"
    }
   ],
   "source": [
    "d is None"
   ]
  },
  {
   "cell_type": "code",
   "execution_count": 8,
   "id": "2f627e83-e43a-4639-a975-f3668b460555",
   "metadata": {},
   "outputs": [
    {
     "data": {
      "text/plain": [
       "1"
      ]
     },
     "execution_count": 8,
     "metadata": {},
     "output_type": "execute_result"
    }
   ],
   "source": [
    "int(b)"
   ]
  },
  {
   "cell_type": "code",
   "execution_count": 10,
   "id": "e3a4cb10-4d5d-48b7-9f42-e76c053f2f37",
   "metadata": {},
   "outputs": [
    {
     "data": {
      "text/plain": [
       "False"
      ]
     },
     "execution_count": 10,
     "metadata": {},
     "output_type": "execute_result"
    }
   ],
   "source": [
    "isinstance(b, int)"
   ]
  },
  {
   "cell_type": "code",
   "execution_count": 11,
   "id": "da482623-2418-47ce-a4e7-4871f9296239",
   "metadata": {},
   "outputs": [],
   "source": [
    "import random"
   ]
  },
  {
   "cell_type": "code",
   "execution_count": 44,
   "id": "813f4150-69c8-42f9-a609-d05e16e06925",
   "metadata": {},
   "outputs": [
    {
     "name": "stdout",
     "output_type": "stream",
     "text": [
      "1000\n",
      "Max: 0.9999803839340046\n",
      "Min: 0.00042211336181074977\n",
      "lucky\n",
      "lucky\n",
      "lucky\n",
      "lucky\n",
      "lucky\n"
     ]
    }
   ],
   "source": [
    "nums = set()\n",
    "\n",
    "for _ in range(1000):\n",
    "    nums.add(random.random())\n",
    "\n",
    "print(len(nums))\n",
    "print(f'Max: {max(nums)}')\n",
    "print(f'Min: {min(nums)}')\n",
    "\n",
    "p = 1/319\n",
    "for i in nums:\n",
    "    if i <= p:\n",
    "        print('lucky')"
   ]
  },
  {
   "cell_type": "code",
   "execution_count": 38,
   "id": "ba44bc6e-336d-44ee-bde6-1da709dc79ed",
   "metadata": {},
   "outputs": [
    {
     "data": {
      "text/plain": [
       "0.003134796238244514"
      ]
     },
     "execution_count": 38,
     "metadata": {},
     "output_type": "execute_result"
    }
   ],
   "source": [
    "1/319"
   ]
  },
  {
   "cell_type": "code",
   "execution_count": 45,
   "id": "933cc246-2c9b-49d3-8be9-d09c585870a3",
   "metadata": {},
   "outputs": [
    {
     "name": "stdout",
     "output_type": "stream",
     "text": [
      "理論値: 3134.80\n",
      "random.random()方式: 3163 (0.316300%)\n",
      "randint方式       : 3070 (0.307000%)\n"
     ]
    }
   ],
   "source": [
    "import random\n",
    "\n",
    "# 試行回数\n",
    "TRIALS = 1_000_000\n",
    "P = 1 / 319\n",
    "\n",
    "# 方式1: random.random() <= P\n",
    "count_float = 0\n",
    "for _ in range(TRIALS):\n",
    "    if random.random() <= P:\n",
    "        count_float += 1\n",
    "\n",
    "# 方式2: random.randint(1, 319) == 1\n",
    "count_int = 0\n",
    "for _ in range(TRIALS):\n",
    "    if random.randint(1, 319) == 1:\n",
    "        count_int += 1\n",
    "\n",
    "print(f\"理論値: {TRIALS * P:.2f}\")\n",
    "print(f\"random.random()方式: {count_float} ({count_float/TRIALS:.6%})\")\n",
    "print(f\"randint方式       : {count_int} ({count_int/TRIALS:.6%})\")"
   ]
  },
  {
   "cell_type": "code",
   "execution_count": null,
   "id": "4880a7dc-4475-4ca4-97df-1cff651077c0",
   "metadata": {},
   "outputs": [],
   "source": []
  }
 ],
 "metadata": {
  "kernelspec": {
   "display_name": "Python 3 (ipykernel)",
   "language": "python",
   "name": "python3"
  },
  "language_info": {
   "codemirror_mode": {
    "name": "ipython",
    "version": 3
   },
   "file_extension": ".py",
   "mimetype": "text/x-python",
   "name": "python",
   "nbconvert_exporter": "python",
   "pygments_lexer": "ipython3",
   "version": "3.9.13"
  }
 },
 "nbformat": 4,
 "nbformat_minor": 5
}
