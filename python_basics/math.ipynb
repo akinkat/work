{
 "cells": [
  {
   "cell_type": "code",
   "execution_count": 1,
   "id": "621d9b72-fd00-44db-990a-7995b8228bc6",
   "metadata": {},
   "outputs": [],
   "source": [
    "import math"
   ]
  },
  {
   "cell_type": "code",
   "execution_count": 2,
   "id": "c712fbd2-5e52-4c83-95c3-759031061901",
   "metadata": {},
   "outputs": [
    {
     "name": "stdout",
     "output_type": "stream",
     "text": [
      "nan\n",
      "inf\n",
      "3.141592653589793\n",
      "2.718281828459045\n"
     ]
    }
   ],
   "source": [
    "print(math.nan)\n",
    "print(math.inf)\n",
    "print(math.pi)\n",
    "print(math.e)"
   ]
  },
  {
   "cell_type": "code",
   "execution_count": 16,
   "id": "fe243de2-cb18-4e2b-9b14-be33c91158f7",
   "metadata": {},
   "outputs": [
    {
     "name": "stdout",
     "output_type": "stream",
     "text": [
      "3.141592653589793\n",
      "2.718281828459045\n",
      "6.283185307179586\n",
      "inf\n",
      "nan\n"
     ]
    }
   ],
   "source": [
    "print(math.pi)      # 円周率 3.141592653589793\n",
    "print(math.e)       # 自然対数の底 2.718281828459045\n",
    "print(math.tau)     # τ（2π） 6.283185307179586\n",
    "print(math.inf)     # 無限大\n",
    "print(math.nan)     # NaN (非数)"
   ]
  },
  {
   "cell_type": "code",
   "execution_count": 15,
   "id": "11ad80ff-c727-4f73-b27f-1f5163bbc847",
   "metadata": {},
   "outputs": [
    {
     "name": "stdout",
     "output_type": "stream",
     "text": [
      "4.0\n",
      "8.0\n"
     ]
    }
   ],
   "source": [
    "print(math.sqrt(16))   # 4.0\n",
    "print(math.pow(2, 3))  # 8.0（2の3乗）"
   ]
  },
  {
   "cell_type": "code",
   "execution_count": 14,
   "id": "f2196c3a-d9c7-4308-a687-d55ad1909e9c",
   "metadata": {},
   "outputs": [
    {
     "name": "stdout",
     "output_type": "stream",
     "text": [
      "1.0\n",
      "1.0\n",
      "0.9999999999999999\n"
     ]
    }
   ],
   "source": [
    "print(math.sin(math.pi / 2))  # 1.0\n",
    "print(math.cos(0))            # 1.0\n",
    "print(math.tan(math.pi / 4))  # 1.0"
   ]
  },
  {
   "cell_type": "code",
   "execution_count": 13,
   "id": "7b3efaa1-cca8-408e-8d0d-016e76b7cb9c",
   "metadata": {},
   "outputs": [
    {
     "name": "stdout",
     "output_type": "stream",
     "text": [
      "2.0\n",
      "1.0\n",
      "7.38905609893065\n"
     ]
    }
   ],
   "source": [
    "print(math.log(100, 10))   # 2.0（底10の対数）\n",
    "print(math.log(math.e))    # 1.0（自然対数）\n",
    "print(math.exp(2))         # e^2 ≈ 7.389"
   ]
  },
  {
   "cell_type": "code",
   "execution_count": 17,
   "id": "c54147dd-6d63-4183-8ded-6f49e2be1e54",
   "metadata": {},
   "outputs": [
    {
     "data": {
      "text/plain": [
       "7.3890560989306495"
      ]
     },
     "execution_count": 17,
     "metadata": {},
     "output_type": "execute_result"
    }
   ],
   "source": [
    "math.e ** 2"
   ]
  },
  {
   "cell_type": "code",
   "execution_count": 12,
   "id": "9c8ddb29-c2df-4edd-86c4-c64db50f85c1",
   "metadata": {},
   "outputs": [
    {
     "name": "stdout",
     "output_type": "stream",
     "text": [
      "5\n",
      "4\n",
      "4\n",
      "5.0\n"
     ]
    }
   ],
   "source": [
    "print(math.ceil(4.2))   # 5（切り上げ）\n",
    "print(math.floor(4.7))  # 4（切り下げ）\n",
    "print(math.trunc(4.7))  # 4（小数点以下切り捨て）\n",
    "print(math.fabs(-5))    # 5.0（絶対値）"
   ]
  },
  {
   "cell_type": "code",
   "execution_count": 18,
   "id": "dc7ad182-b9d4-4ed6-be9d-43e33f12ff55",
   "metadata": {},
   "outputs": [
    {
     "name": "stdout",
     "output_type": "stream",
     "text": [
      "6\n",
      "36\n"
     ]
    }
   ],
   "source": [
    "print(math.gcd(12, 18))  # 最大公約数\n",
    "print(math.lcm(12, 18))  # 最小公倍数"
   ]
  },
  {
   "cell_type": "code",
   "execution_count": 20,
   "id": "70aed052-5fe5-49fa-a370-83ec9e9e91c1",
   "metadata": {},
   "outputs": [
    {
     "name": "stdout",
     "output_type": "stream",
     "text": [
      "120\n",
      "10\n",
      "20\n"
     ]
    }
   ],
   "source": [
    "print(math.factorial(5))    # 5!\n",
    "print(math.comb(5, 2))      # 組み合わせ\n",
    "print(math.perm(5, 2))      # 順列"
   ]
  },
  {
   "cell_type": "code",
   "execution_count": 21,
   "id": "9735d92f-b2af-4538-aaf4-08a48bbd7199",
   "metadata": {},
   "outputs": [
    {
     "name": "stdout",
     "output_type": "stream",
     "text": [
      "True\n"
     ]
    }
   ],
   "source": [
    "print(math.isclose(0.1 + 0.2, 0.3))  # True（ほぼ等しいか判定）"
   ]
  },
  {
   "cell_type": "code",
   "execution_count": 28,
   "id": "515bedfb-8d6a-421a-bfe8-5f55cac8096a",
   "metadata": {},
   "outputs": [
    {
     "data": {
      "text/plain": [
       "False"
      ]
     },
     "execution_count": 28,
     "metadata": {},
     "output_type": "execute_result"
    }
   ],
   "source": [
    "a = 0.1\n",
    "b = 0.2\n",
    "c = 0.3\n",
    "\n",
    "a + b == c"
   ]
  },
  {
   "cell_type": "code",
   "execution_count": 29,
   "id": "733f63e6-9b97-4b2b-9714-59e64cc9812d",
   "metadata": {},
   "outputs": [
    {
     "data": {
      "text/plain": [
       "0.30000000000000004"
      ]
     },
     "execution_count": 29,
     "metadata": {},
     "output_type": "execute_result"
    }
   ],
   "source": [
    "a + b"
   ]
  },
  {
   "cell_type": "code",
   "execution_count": 30,
   "id": "5dea4c08-7264-4299-9be4-e736962ba52b",
   "metadata": {},
   "outputs": [
    {
     "data": {
      "text/plain": [
       "0.3"
      ]
     },
     "execution_count": 30,
     "metadata": {},
     "output_type": "execute_result"
    }
   ],
   "source": [
    "c"
   ]
  },
  {
   "cell_type": "code",
   "execution_count": 31,
   "id": "0cdd3031-1220-4249-98dd-6ea876abcb94",
   "metadata": {},
   "outputs": [
    {
     "data": {
      "text/plain": [
       "3628800"
      ]
     },
     "execution_count": 31,
     "metadata": {},
     "output_type": "execute_result"
    }
   ],
   "source": [
    "math.factorial(10)"
   ]
  },
  {
   "cell_type": "code",
   "execution_count": 34,
   "id": "2eacf88a-1a6c-46b8-bd04-50cfcc887e39",
   "metadata": {},
   "outputs": [],
   "source": [
    "def factorial(n):\n",
    "    if n < 0:\n",
    "        raise ValueError('負の数の階乗は定義されていません。')\n",
    "    if n == 0:\n",
    "        return 1\n",
    "    else:\n",
    "        return n * factorial(n - 1)"
   ]
  },
  {
   "cell_type": "code",
   "execution_count": 36,
   "id": "979a62b3-c23a-41dd-868f-0c45a9ec58cd",
   "metadata": {},
   "outputs": [
    {
     "data": {
      "text/plain": [
       "3628800"
      ]
     },
     "execution_count": 36,
     "metadata": {},
     "output_type": "execute_result"
    }
   ],
   "source": [
    "factorial(10)"
   ]
  },
  {
   "cell_type": "code",
   "execution_count": 37,
   "id": "280d1611-fea0-45d1-923b-24216425d1a9",
   "metadata": {},
   "outputs": [],
   "source": [
    "def fibonacci(n):\n",
    "    if n <= 2:\n",
    "        return 1\n",
    "    else:\n",
    "        return fibonacci(n - 1) + fibonacci(n - 2)"
   ]
  },
  {
   "cell_type": "code",
   "execution_count": 41,
   "id": "7dd6ae50-ec3e-4b4f-bc6e-f562cccc4ee8",
   "metadata": {},
   "outputs": [
    {
     "data": {
      "text/plain": [
       "1"
      ]
     },
     "execution_count": 41,
     "metadata": {},
     "output_type": "execute_result"
    }
   ],
   "source": [
    "fibonacci()"
   ]
  },
  {
   "cell_type": "code",
   "execution_count": 39,
   "id": "63f438a7-bc82-4a87-8825-7b762bfeb7a4",
   "metadata": {},
   "outputs": [
    {
     "data": {
      "text/plain": [
       "5"
      ]
     },
     "execution_count": 39,
     "metadata": {},
     "output_type": "execute_result"
    }
   ],
   "source": [
    "fibonacci(5)"
   ]
  },
  {
   "cell_type": "code",
   "execution_count": 40,
   "id": "ced40c70-08f9-40dd-83c4-815483fa687c",
   "metadata": {},
   "outputs": [
    {
     "data": {
      "text/plain": [
       "21"
      ]
     },
     "execution_count": 40,
     "metadata": {},
     "output_type": "execute_result"
    }
   ],
   "source": [
    "fibonacci(8)"
   ]
  },
  {
   "cell_type": "code",
   "execution_count": 43,
   "id": "97b376b6-646f-4e42-b2d6-22085e314a8a",
   "metadata": {},
   "outputs": [
    {
     "name": "stdout",
     "output_type": "stream",
     "text": [
      "1\n",
      "1\n",
      "2\n",
      "3\n",
      "5\n",
      "8\n",
      "13\n",
      "21\n",
      "34\n",
      "55\n"
     ]
    }
   ],
   "source": [
    "for i in range(1, 11):\n",
    "    print(fibonacci(i))"
   ]
  },
  {
   "cell_type": "code",
   "execution_count": 44,
   "id": "15cdeb86-5c4d-4bab-a117-bb3763ef7783",
   "metadata": {},
   "outputs": [],
   "source": [
    "def fibonacci_2(n):\n",
    "    if n <= 2:\n",
    "        return 1\n",
    "    else:\n",
    "        n_1 = 1\n",
    "        n_2 = 0\n",
    "        for i in range(n-1):\n",
    "            result = n_1 + n_2\n",
    "            n_2 = n_1\n",
    "            n_1 = result\n",
    "        return result"
   ]
  },
  {
   "cell_type": "code",
   "execution_count": 45,
   "id": "f5d5529f-4fbb-4c6d-a7b5-65e28fbf0976",
   "metadata": {},
   "outputs": [
    {
     "name": "stdout",
     "output_type": "stream",
     "text": [
      "1\n",
      "1\n",
      "2\n",
      "3\n",
      "5\n",
      "8\n",
      "13\n",
      "21\n",
      "34\n",
      "55\n"
     ]
    }
   ],
   "source": [
    "for i in range(1, 11):\n",
    "    print(fibonacci_2(i))"
   ]
  },
  {
   "cell_type": "code",
   "execution_count": 48,
   "id": "9b5d9a52-ee55-47f6-bd93-2ea8ba33c4e6",
   "metadata": {},
   "outputs": [
    {
     "name": "stdout",
     "output_type": "stream",
     "text": [
      "1\n",
      "1\n",
      "2\n",
      "3\n",
      "5\n",
      "8\n",
      "13\n",
      "21\n",
      "34\n",
      "55\n"
     ]
    }
   ],
   "source": [
    "def fibonacci_2(n):\n",
    "    if n <= 2:\n",
    "        return 1\n",
    "    else:\n",
    "        a = 1  # F(1)\n",
    "        b = 1  # F(2)\n",
    "        for _ in range(3, n + 1):\n",
    "            a, b = b, a + b\n",
    "        return b\n",
    "\n",
    "for i in range(1, 11):\n",
    "    print(fibonacci_2(i))"
   ]
  },
  {
   "cell_type": "code",
   "execution_count": 63,
   "id": "12b2c69c-e290-4ff4-93bb-e9c0f73c5be8",
   "metadata": {},
   "outputs": [],
   "source": [
    "from functools import lru_cache\n",
    "\n",
    "@lru_cache(maxsize=None)  # 無制限キャッシュ\n",
    "def fibonacci_cache(n):\n",
    "    if n <= 2:\n",
    "        return 1\n",
    "    return fibonacci(n - 1) + fibonacci(n - 2)"
   ]
  },
  {
   "cell_type": "code",
   "execution_count": 54,
   "id": "3e519a23-1223-40fd-86ff-a5ae5e2d90b7",
   "metadata": {},
   "outputs": [],
   "source": [
    "def fibonacci(n):\n",
    "    if n <= 2:\n",
    "        return 1\n",
    "    else:\n",
    "        return fibonacci(n - 1) + fibonacci(n - 2)"
   ]
  },
  {
   "cell_type": "code",
   "execution_count": 53,
   "id": "5e6ab5f1-1244-402b-afab-a0bf8ad21c18",
   "metadata": {},
   "outputs": [],
   "source": [
    "import time"
   ]
  },
  {
   "cell_type": "code",
   "execution_count": 61,
   "id": "6763ebce-e3fa-4105-81ff-b32d0301d4d7",
   "metadata": {},
   "outputs": [
    {
     "name": "stdout",
     "output_type": "stream",
     "text": [
      "9227465\n",
      "time: 3.283696413040161\n"
     ]
    }
   ],
   "source": [
    "before = time.time()\n",
    "print(fibonacci(35))\n",
    "after = time.time()\n",
    "print(f'time: {after - before}')"
   ]
  },
  {
   "cell_type": "code",
   "execution_count": 64,
   "id": "2f2fed14-6d19-4442-9cd5-dad1e92b1a7e",
   "metadata": {},
   "outputs": [
    {
     "name": "stdout",
     "output_type": "stream",
     "text": [
      "9227465\n",
      "time: 3.109708786010742\n"
     ]
    }
   ],
   "source": [
    "before = time.time()\n",
    "print(fibonacci_cache(35))\n",
    "after = time.time()\n",
    "print(f'time: {after - before}')"
   ]
  },
  {
   "cell_type": "code",
   "execution_count": 66,
   "id": "44fc4561-6ec4-4814-8422-5a8f1fbc2690",
   "metadata": {},
   "outputs": [
    {
     "name": "stdout",
     "output_type": "stream",
     "text": [
      "CacheInfo(hits=0, misses=2, maxsize=None, currsize=1)\n"
     ]
    }
   ],
   "source": [
    "print(fibonacci_cache.cache_info())"
   ]
  },
  {
   "cell_type": "code",
   "execution_count": 67,
   "id": "920e6654-12ef-4055-9975-fbe57ae90252",
   "metadata": {},
   "outputs": [
    {
     "name": "stdout",
     "output_type": "stream",
     "text": [
      "CacheInfo(hits=37, misses=40, maxsize=None, currsize=40)\n",
      "CacheInfo(hits=38, misses=40, maxsize=None, currsize=40)\n"
     ]
    }
   ],
   "source": [
    "from functools import lru_cache\n",
    "\n",
    "@lru_cache(maxsize=None)\n",
    "def fibonacci(n):\n",
    "    if n <= 2:\n",
    "        return 1\n",
    "    return fibonacci(n - 1) + fibonacci(n - 2)\n",
    "\n",
    "# 1回目（missが多い）\n",
    "fibonacci(40)\n",
    "print(fibonacci.cache_info())\n",
    "\n",
    "# 2回目（hitが多いはず）\n",
    "fibonacci(40)\n",
    "print(fibonacci.cache_info())\n"
   ]
  },
  {
   "cell_type": "code",
   "execution_count": null,
   "id": "a2d89f3d-dcf0-49ef-8754-3d2727ce530b",
   "metadata": {},
   "outputs": [],
   "source": []
  }
 ],
 "metadata": {
  "kernelspec": {
   "display_name": "Python 3 (ipykernel)",
   "language": "python",
   "name": "python3"
  },
  "language_info": {
   "codemirror_mode": {
    "name": "ipython",
    "version": 3
   },
   "file_extension": ".py",
   "mimetype": "text/x-python",
   "name": "python",
   "nbconvert_exporter": "python",
   "pygments_lexer": "ipython3",
   "version": "3.9.13"
  }
 },
 "nbformat": 4,
 "nbformat_minor": 5
}
