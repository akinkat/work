{
 "cells": [
  {
   "cell_type": "code",
   "execution_count": 1,
   "id": "64ef8e60-1ede-45ad-89cf-00cea56c74c6",
   "metadata": {},
   "outputs": [],
   "source": [
    "import math"
   ]
  },
  {
   "cell_type": "code",
   "execution_count": 2,
   "id": "e714750c-4dff-4da7-bb8f-9a4a1ac89a65",
   "metadata": {},
   "outputs": [
    {
     "data": {
      "text/plain": [
       "2.718281828459045"
      ]
     },
     "execution_count": 2,
     "metadata": {},
     "output_type": "execute_result"
    }
   ],
   "source": [
    "math.e"
   ]
  },
  {
   "cell_type": "code",
   "execution_count": 3,
   "id": "c1c1e927-1c5f-4ca1-ae86-e5b5f159fa79",
   "metadata": {},
   "outputs": [
    {
     "data": {
      "text/plain": [
       "3.141592653589793"
      ]
     },
     "execution_count": 3,
     "metadata": {},
     "output_type": "execute_result"
    }
   ],
   "source": [
    "math.pi"
   ]
  },
  {
   "cell_type": "code",
   "execution_count": 4,
   "id": "c9369395-d2d8-492c-8a64-536022185c12",
   "metadata": {},
   "outputs": [
    {
     "data": {
      "text/plain": [
       "120"
      ]
     },
     "execution_count": 4,
     "metadata": {},
     "output_type": "execute_result"
    }
   ],
   "source": [
    "math.factorial(5)"
   ]
  },
  {
   "cell_type": "code",
   "execution_count": 10,
   "id": "51a27909-f00f-4a37-98d8-57e9eab83bfd",
   "metadata": {},
   "outputs": [],
   "source": [
    "def factorial(n):\n",
    "    if n == 0:\n",
    "        return 1\n",
    "    if n <= 2:\n",
    "        return n\n",
    "    else:\n",
    "        return factorial(n-1) * n"
   ]
  },
  {
   "cell_type": "code",
   "execution_count": 6,
   "id": "0f94343f-7724-4ac3-89df-e368534d898d",
   "metadata": {},
   "outputs": [
    {
     "data": {
      "text/plain": [
       "120"
      ]
     },
     "execution_count": 6,
     "metadata": {},
     "output_type": "execute_result"
    }
   ],
   "source": [
    "factorial(5)"
   ]
  },
  {
   "cell_type": "code",
   "execution_count": 11,
   "id": "966d683a-c455-4d6f-8da9-25521fb4b228",
   "metadata": {},
   "outputs": [
    {
     "name": "stdout",
     "output_type": "stream",
     "text": [
      "1\n",
      "1\n",
      "1\n",
      "1\n",
      "2\n",
      "2\n",
      "6\n",
      "6\n",
      "24\n",
      "24\n",
      "120\n",
      "120\n",
      "720\n",
      "720\n",
      "5040\n",
      "5040\n",
      "40320\n",
      "40320\n",
      "362880\n",
      "362880\n",
      "3628800\n",
      "3628800\n",
      "39916800\n",
      "39916800\n",
      "479001600\n",
      "479001600\n",
      "6227020800\n",
      "6227020800\n",
      "87178291200\n",
      "87178291200\n",
      "1307674368000\n",
      "1307674368000\n",
      "20922789888000\n",
      "20922789888000\n",
      "355687428096000\n",
      "355687428096000\n",
      "6402373705728000\n",
      "6402373705728000\n",
      "121645100408832000\n",
      "121645100408832000\n"
     ]
    }
   ],
   "source": [
    "for i in range(20):\n",
    "    print(math.factorial(i))\n",
    "    print(factorial(i))"
   ]
  },
  {
   "cell_type": "code",
   "execution_count": null,
   "id": "948043d4-ac6c-4ac4-893e-c248a1ebb82a",
   "metadata": {},
   "outputs": [],
   "source": []
  }
 ],
 "metadata": {
  "kernelspec": {
   "display_name": "Python 3 (ipykernel)",
   "language": "python",
   "name": "python3"
  },
  "language_info": {
   "codemirror_mode": {
    "name": "ipython",
    "version": 3
   },
   "file_extension": ".py",
   "mimetype": "text/x-python",
   "name": "python",
   "nbconvert_exporter": "python",
   "pygments_lexer": "ipython3",
   "version": "3.9.13"
  }
 },
 "nbformat": 4,
 "nbformat_minor": 5
}
